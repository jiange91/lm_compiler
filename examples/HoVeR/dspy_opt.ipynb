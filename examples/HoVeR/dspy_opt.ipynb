{
 "cells": [
  {
   "cell_type": "code",
   "execution_count": 1,
   "metadata": {},
   "outputs": [
    {
     "name": "stderr",
     "output_type": "stream",
     "text": [
      "/mnt/ssd4/lm_compiler/my_env/lib/python3.12/site-packages/pydantic/_internal/_config.py:341: UserWarning: Valid config keys have changed in V2:\n",
      "* 'allow_population_by_field_name' has been renamed to 'populate_by_name'\n",
      "* 'smart_union' has been removed\n",
      "  warnings.warn(message, UserWarning)\n",
      "/mnt/ssd4/lm_compiler/my_env/lib/python3.12/site-packages/tqdm/auto.py:21: TqdmWarning: IProgress not found. Please update jupyter and ipywidgets. See https://ipywidgets.readthedocs.io/en/stable/user_install.html\n",
      "  from .autonotebook import tqdm as notebook_tqdm\n"
     ]
    }
   ],
   "source": [
    "from data_loader import load_data\n",
    "import dspy\n",
    "import hover_dspy"
   ]
  },
  {
   "cell_type": "code",
   "execution_count": 2,
   "metadata": {},
   "outputs": [
    {
     "name": "stdout",
     "output_type": "stream",
     "text": [
      "100 200\n"
     ]
    }
   ],
   "source": [
    "print(len(hover_dspy.train_set), len(hover_dspy.dev_set))"
   ]
  },
  {
   "cell_type": "code",
   "execution_count": 3,
   "metadata": {},
   "outputs": [],
   "source": [
    "from dspy.evaluate import Evaluate\n",
    "from dspy.teleprompt import BootstrapFewShotWithRandomSearch"
   ]
  },
  {
   "cell_type": "code",
   "execution_count": 10,
   "metadata": {},
   "outputs": [],
   "source": [
    "config = dict(num_threads=20, display_progress=True, display_table=5)\n",
    "evaluate = Evaluate(devset=hover_dspy.dev_set, metric=hover_dspy.doc_f1, **config)"
   ]
  },
  {
   "cell_type": "code",
   "execution_count": 11,
   "metadata": {},
   "outputs": [],
   "source": [
    "agent = hover_dspy.RetrieveMultiHop()"
   ]
  },
  {
   "cell_type": "code",
   "execution_count": 12,
   "metadata": {},
   "outputs": [
    {
     "name": "stderr",
     "output_type": "stream",
     "text": [
      "Average Metric: 0.16666666666666666 / 1  (16.7):   0%|          | 0/200 [00:00<?, ?it/s]"
     ]
    },
    {
     "name": "stderr",
     "output_type": "stream",
     "text": [
      "/mnt/ssd4/lm_compiler/my_env/lib/python3.12/site-packages/pydantic/main.py:390: UserWarning: Pydantic serializer warnings:\n",
      "  Expected `PromptTokensDetails` but got `dict` with value `{'audio_tokens': None, 'cached_tokens': 0}` - serialized value may not be as expected\n",
      "  return self.__pydantic_serializer__.to_python(\n",
      "Average Metric: 37.14696414696414 / 112  (33.2):  56%|█████▌    | 111/200 [00:02<00:03, 28.51it/s] /mnt/ssd4/lm_compiler/my_env/lib/python3.12/site-packages/pydantic/main.py:441: UserWarning: Pydantic serializer warnings:\n",
      "  Expected `PromptTokensDetails` but got `dict` with value `{'audio_tokens': None, 'cached_tokens': 0}` - serialized value may not be as expected\n",
      "  return self.__pydantic_serializer__.to_json(\n",
      "Average Metric: 64.70023865023865 / 200  (32.4): 100%|██████████| 200/200 [00:34<00:00,  5.76it/s] \n"
     ]
    },
    {
     "data": {
      "text/html": [
       "<style type=\"text/css\">\n",
       "#T_aaefb th {\n",
       "  text-align: left;\n",
       "}\n",
       "#T_aaefb td {\n",
       "  text-align: left;\n",
       "}\n",
       "#T_aaefb_row0_col0, #T_aaefb_row0_col1, #T_aaefb_row0_col2, #T_aaefb_row0_col3, #T_aaefb_row0_col4, #T_aaefb_row0_col5, #T_aaefb_row1_col0, #T_aaefb_row1_col1, #T_aaefb_row1_col2, #T_aaefb_row1_col3, #T_aaefb_row1_col4, #T_aaefb_row1_col5, #T_aaefb_row2_col0, #T_aaefb_row2_col1, #T_aaefb_row2_col2, #T_aaefb_row2_col3, #T_aaefb_row2_col4, #T_aaefb_row2_col5, #T_aaefb_row3_col0, #T_aaefb_row3_col1, #T_aaefb_row3_col2, #T_aaefb_row3_col3, #T_aaefb_row3_col4, #T_aaefb_row3_col5, #T_aaefb_row4_col0, #T_aaefb_row4_col1, #T_aaefb_row4_col2, #T_aaefb_row4_col3, #T_aaefb_row4_col4, #T_aaefb_row4_col5 {\n",
       "  text-align: left;\n",
       "  white-space: pre-wrap;\n",
       "  word-wrap: break-word;\n",
       "  max-width: 400px;\n",
       "}\n",
       "</style>\n",
       "<table id=\"T_aaefb\">\n",
       "  <thead>\n",
       "    <tr>\n",
       "      <th class=\"blank level0\" >&nbsp;</th>\n",
       "      <th id=\"T_aaefb_level0_col0\" class=\"col_heading level0 col0\" >claim</th>\n",
       "      <th id=\"T_aaefb_level0_col1\" class=\"col_heading level0 col1\" >docs</th>\n",
       "      <th id=\"T_aaefb_level0_col2\" class=\"col_heading level0 col2\" >scores</th>\n",
       "      <th id=\"T_aaefb_level0_col3\" class=\"col_heading level0 col3\" >pids</th>\n",
       "      <th id=\"T_aaefb_level0_col4\" class=\"col_heading level0 col4\" >passages</th>\n",
       "      <th id=\"T_aaefb_level0_col5\" class=\"col_heading level0 col5\" >doc_f1</th>\n",
       "    </tr>\n",
       "  </thead>\n",
       "  <tbody>\n",
       "    <tr>\n",
       "      <th id=\"T_aaefb_level0_row0\" class=\"row_heading level0 row0\" >0</th>\n",
       "      <td id=\"T_aaefb_row0_col0\" class=\"data row0 col0\" >The actor appeared in The Magic Roundabout, a 2005 French-British computer-animated adventure fantasy that was based on a TV series. He also starred in the...</td>\n",
       "      <td id=\"T_aaefb_row0_col1\" class=\"data row0 col1\" >[1781505, 262800, 3126027]</td>\n",
       "      <td id=\"T_aaefb_row0_col2\" class=\"data row0 col2\" >(22.828125, 20.328125, 20.28125, 20.0, 19.9375, 19.890625, 19.859375, 18.703125, 18.703125, 18.34375)</td>\n",
       "      <td id=\"T_aaefb_row0_col3\" class=\"data row0 col3\" >(1781505, 2005212, 1747786, 4981601, 2117018, 4392677, 4233659, 1031221, 1031221, 426295)</td>\n",
       "      <td id=\"T_aaefb_row0_col4\" class=\"data row0 col4\" >('The Magic Roundabout (film) | The Magic Roundabout (released in France as Pollux - Le manège enchanté and redubbed in the United States as Doogal...</td>\n",
       "      <td id=\"T_aaefb_row0_col5\" class=\"data row0 col5\" >✔️ [0.16666666666666666]</td>\n",
       "    </tr>\n",
       "    <tr>\n",
       "      <th id=\"T_aaefb_level0_row1\" class=\"row_heading level0 row1\" >1</th>\n",
       "      <td id=\"T_aaefb_row1_col0\" class=\"data row1 col0\" >Denmark's leader residing over the Cabinet of Deuntzer, was a part of the Liberal \"Venstre\" party before the party that translates to the \"Radical Left\".</td>\n",
       "      <td id=\"T_aaefb_row1_col1\" class=\"data row1 col1\" >[3396860, 3826406, 3055778]</td>\n",
       "      <td id=\"T_aaefb_row1_col2\" class=\"data row1 col2\" >(25.953125, 24.078125, 23.859375, 23.25, 22.46875, 21.953125, 21.375, 21.171875, 21.171875, 21.140625)</td>\n",
       "      <td id=\"T_aaefb_row1_col3\" class=\"data row1 col3\" >(3055778, 3826406, 3055778, 3055778, 3826406, 3826406, 2017868, 3055765, 4299950, 1475546)</td>\n",
       "      <td id=\"T_aaefb_row1_col4\" class=\"data row1 col4\" >('Johan Henrik Deuntzer | Johan Henrik Deuntzer (20 May 1845 – 16 November 1918) was a Danish politician, member of the Liberal \"Venstre\" party until...</td>\n",
       "      <td id=\"T_aaefb_row1_col5\" class=\"data row1 col5\" >✔️ [0.4444444444444444]</td>\n",
       "    </tr>\n",
       "    <tr>\n",
       "      <th id=\"T_aaefb_level0_row2\" class=\"row_heading level0 row2\" >2</th>\n",
       "      <td id=\"T_aaefb_row2_col0\" class=\"data row2 col0\" >Steven Harvey Goldmann directed a 2006 rom-com film that starred an American actress who appeared in Twins and Jerry Maguire. She is married to John...</td>\n",
       "      <td id=\"T_aaefb_row2_col1\" class=\"data row2 col1\" >[261096, 2439232, 5046973]</td>\n",
       "      <td id=\"T_aaefb_row2_col2\" class=\"data row2 col2\" >(20.40625, 19.796875, 19.703125, 19.6875, 19.59375, 19.53125, 19.515625, 19.390625, 18.46875, 17.953125)</td>\n",
       "      <td id=\"T_aaefb_row2_col3\" class=\"data row2 col3\" >(261096, 527484, 737261, 4169987, 3542759, 5098794, 3851433, 5181088, 5181088, 672889)</td>\n",
       "      <td id=\"T_aaefb_row2_col4\" class=\"data row2 col4\" >('Kelly Preston | Kelly Preston (born October 13, 1962) is an American actress and former model. She has appeared in more than sixty television and...</td>\n",
       "      <td id=\"T_aaefb_row2_col5\" class=\"data row2 col5\" >✔️ [0.16666666666666666]</td>\n",
       "    </tr>\n",
       "    <tr>\n",
       "      <th id=\"T_aaefb_level0_row3\" class=\"row_heading level0 row3\" >3</th>\n",
       "      <td id=\"T_aaefb_row3_col0\" class=\"data row3 col0\" >The 2010 population of a town in Waldo County which was covered by the district that contains Mount View High School (Maine) was 2,099.</td>\n",
       "      <td id=\"T_aaefb_row3_col1\" class=\"data row3 col1\" >[2887953, 3231759, 1903454]</td>\n",
       "      <td id=\"T_aaefb_row3_col2\" class=\"data row3 col2\" >(26.9375, 26.734375, 26.5, 26.40625, 25.390625, 24.734375, 24.109375, 23.859375, 22.390625, 22.265625)</td>\n",
       "      <td id=\"T_aaefb_row3_col3\" class=\"data row3 col3\" >(3231759, 3231759, 4438522, 4438522, 3231755, 3231755, 3205179, 3205179, 3208726, 3331758)</td>\n",
       "      <td id=\"T_aaefb_row3_col4\" class=\"data row3 col4\" >(\"Unity, Maine | Unity is a town in Waldo County, Maine, United States. The population was 2,099 at the 2010 census. The town is the...</td>\n",
       "      <td id=\"T_aaefb_row3_col5\" class=\"data row3 col5\" >✔️ [0.2222222222222222]</td>\n",
       "    </tr>\n",
       "    <tr>\n",
       "      <th id=\"T_aaefb_level0_row4\" class=\"row_heading level0 row4\" >4</th>\n",
       "      <td id=\"T_aaefb_row4_col0\" class=\"data row4 col0\" >The narrator of I Know That Voice, voices the character Shnitzel on Cartoon Network series created by C. H. Greenblatt.</td>\n",
       "      <td id=\"T_aaefb_row4_col1\" class=\"data row4 col1\" >[1513465, 1008047, 5040692]</td>\n",
       "      <td id=\"T_aaefb_row4_col2\" class=\"data row4 col2\" >(19.84375, 19.5, 19.15625, 18.578125, 18.140625, 18.140625, 17.875, 17.84375, 17.78125, 17.65625)</td>\n",
       "      <td id=\"T_aaefb_row4_col3\" class=\"data row4 col3\" >(1513465, 1008047, 1008047, 4934352, 641090, 1467546, 4850341, 2961098, 3052736, 1513465)</td>\n",
       "      <td id=\"T_aaefb_row4_col4\" class=\"data row4 col4\" >('John DiMaggio | John William DiMaggio (born September 4, 1968) is an American voice actor and comedian, known for his gruff voice and for his...</td>\n",
       "      <td id=\"T_aaefb_row4_col5\" class=\"data row4 col5\" >✔️ [0.36363636363636365]</td>\n",
       "    </tr>\n",
       "  </tbody>\n",
       "</table>\n"
      ],
      "text/plain": [
       "<pandas.io.formats.style.Styler at 0x7f0247dd1700>"
      ]
     },
     "metadata": {},
     "output_type": "display_data"
    },
    {
     "data": {
      "text/html": [
       "\n",
       "                <div style='\n",
       "                    text-align: center;\n",
       "                    font-size: 16px;\n",
       "                    font-weight: bold;\n",
       "                    color: #555;\n",
       "                    margin: 10px 0;'>\n",
       "                    ... 195 more rows not displayed ...\n",
       "                </div>\n",
       "                "
      ],
      "text/plain": [
       "<IPython.core.display.HTML object>"
      ]
     },
     "metadata": {},
     "output_type": "display_data"
    },
    {
     "data": {
      "text/plain": [
       "32.35"
      ]
     },
     "execution_count": 12,
     "metadata": {},
     "output_type": "execute_result"
    }
   ],
   "source": [
    "evaluate(agent)"
   ]
  },
  {
   "cell_type": "code",
   "execution_count": 13,
   "metadata": {},
   "outputs": [
    {
     "name": "stdout",
     "output_type": "stream",
     "text": [
      "Beginning MIPROv2 optimization process...\n",
      "\n",
      "==> STEP 1: BOOTSTRAP FEWSHOT EXAMPLES <==\n",
      "These will be used for as few-shot examples candidates for our program and for creating instructions.\n",
      "\n",
      "Bootstrapping N=10 sets of demonstrations...\n",
      "Bootstrapping set 1/10\n",
      "Bootstrapping set 2/10\n",
      "Bootstrapping set 3/10\n"
     ]
    },
    {
     "name": "stderr",
     "output_type": "stream",
     "text": [
      "  0%|          | 0/100 [00:00<?, ?it/s]/mnt/ssd4/lm_compiler/my_env/lib/python3.12/site-packages/pydantic/main.py:441: UserWarning: Pydantic serializer warnings:\n",
      "  Expected `PromptTokensDetails` but got `dict` with value `{'audio_tokens': None, 'cached_tokens': 0}` - serialized value may not be as expected\n",
      "  return self.__pydantic_serializer__.to_json(\n",
      "/mnt/ssd4/lm_compiler/my_env/lib/python3.12/site-packages/pydantic/main.py:390: UserWarning: Pydantic serializer warnings:\n",
      "  Expected `PromptTokensDetails` but got `dict` with value `{'audio_tokens': None, 'cached_tokens': 0}` - serialized value may not be as expected\n",
      "  return self.__pydantic_serializer__.to_python(\n",
      " 20%|██        | 20/100 [02:15<09:01,  6.76s/it]\n"
     ]
    },
    {
     "name": "stdout",
     "output_type": "stream",
     "text": [
      "Bootstrapped 20 full traces after 21 examples in round 0.\n",
      "Bootstrapping set 4/10\n"
     ]
    },
    {
     "name": "stderr",
     "output_type": "stream",
     "text": [
      " 14%|█▍        | 14/100 [00:51<05:15,  3.67s/it]\n"
     ]
    },
    {
     "name": "stdout",
     "output_type": "stream",
     "text": [
      "Bootstrapped 13 full traces after 15 examples in round 0.\n",
      "Bootstrapping set 5/10\n"
     ]
    },
    {
     "name": "stderr",
     "output_type": "stream",
     "text": [
      "  5%|▌         | 5/100 [00:27<08:35,  5.42s/it]\n"
     ]
    },
    {
     "name": "stdout",
     "output_type": "stream",
     "text": [
      "Bootstrapped 5 full traces after 6 examples in round 0.\n",
      "Bootstrapping set 6/10\n"
     ]
    },
    {
     "name": "stderr",
     "output_type": "stream",
     "text": [
      "  2%|▏         | 2/100 [00:05<04:43,  2.89s/it]\n"
     ]
    },
    {
     "name": "stdout",
     "output_type": "stream",
     "text": [
      "Bootstrapped 2 full traces after 3 examples in round 0.\n",
      "Bootstrapping set 7/10\n"
     ]
    },
    {
     "name": "stderr",
     "output_type": "stream",
     "text": [
      "  9%|▉         | 9/100 [00:24<04:09,  2.75s/it]\n"
     ]
    },
    {
     "name": "stdout",
     "output_type": "stream",
     "text": [
      "Bootstrapped 8 full traces after 10 examples in round 0.\n",
      "Bootstrapping set 8/10\n"
     ]
    },
    {
     "name": "stderr",
     "output_type": "stream",
     "text": [
      "  8%|▊         | 8/100 [00:33<06:19,  4.13s/it]\n"
     ]
    },
    {
     "name": "stdout",
     "output_type": "stream",
     "text": [
      "Bootstrapped 8 full traces after 9 examples in round 0.\n",
      "Bootstrapping set 9/10\n"
     ]
    },
    {
     "name": "stderr",
     "output_type": "stream",
     "text": [
      " 21%|██        | 21/100 [01:32<05:47,  4.39s/it]\n"
     ]
    },
    {
     "name": "stdout",
     "output_type": "stream",
     "text": [
      "Bootstrapped 20 full traces after 22 examples in round 0.\n",
      "Bootstrapping set 10/10\n"
     ]
    },
    {
     "name": "stderr",
     "output_type": "stream",
     "text": [
      " 19%|█▉        | 19/100 [00:55<03:58,  2.94s/it]\n"
     ]
    },
    {
     "name": "stdout",
     "output_type": "stream",
     "text": [
      "Bootstrapped 19 full traces after 20 examples in round 0.\n",
      "\n",
      "==> STEP 2: PROPOSE INSTRUCTION CANDIDATES <==\n",
      "In this step, by default we will use the few-shot examples from the previous step, a generated dataset summary, a summary of the program code, and a randomly selected prompting tip to propose instructions.\n",
      "\n",
      "Proposing instructions...\n",
      "\n"
     ]
    },
    {
     "name": "stderr",
     "output_type": "stream",
     "text": [
      "/mnt/ssd4/lm_compiler/my_env/lib/python3.12/site-packages/pydantic/main.py:441: UserWarning: Pydantic serializer warnings:\n",
      "  Expected `PromptTokensDetails` but got `dict` with value `{'audio_tokens': None, 'cached_tokens': 1280}` - serialized value may not be as expected\n",
      "  return self.__pydantic_serializer__.to_json(\n",
      "/mnt/ssd4/lm_compiler/my_env/lib/python3.12/site-packages/pydantic/main.py:390: UserWarning: Pydantic serializer warnings:\n",
      "  Expected `PromptTokensDetails` but got `dict` with value `{'audio_tokens': None, 'cached_tokens': 1280}` - serialized value may not be as expected\n",
      "  return self.__pydantic_serializer__.to_python(\n",
      "/mnt/ssd4/lm_compiler/my_env/lib/python3.12/site-packages/pydantic/main.py:441: UserWarning: Pydantic serializer warnings:\n",
      "  Expected `PromptTokensDetails` but got `dict` with value `{'audio_tokens': None, 'cached_tokens': 1408}` - serialized value may not be as expected\n",
      "  return self.__pydantic_serializer__.to_json(\n",
      "/mnt/ssd4/lm_compiler/my_env/lib/python3.12/site-packages/pydantic/main.py:390: UserWarning: Pydantic serializer warnings:\n",
      "  Expected `PromptTokensDetails` but got `dict` with value `{'audio_tokens': None, 'cached_tokens': 1408}` - serialized value may not be as expected\n",
      "  return self.__pydantic_serializer__.to_python(\n",
      "/mnt/ssd4/lm_compiler/my_env/lib/python3.12/site-packages/pydantic/main.py:441: UserWarning: Pydantic serializer warnings:\n",
      "  Expected `PromptTokensDetails` but got `dict` with value `{'audio_tokens': None, 'cached_tokens': 1536}` - serialized value may not be as expected\n",
      "  return self.__pydantic_serializer__.to_json(\n",
      "/mnt/ssd4/lm_compiler/my_env/lib/python3.12/site-packages/pydantic/main.py:390: UserWarning: Pydantic serializer warnings:\n",
      "  Expected `PromptTokensDetails` but got `dict` with value `{'audio_tokens': None, 'cached_tokens': 1536}` - serialized value may not be as expected\n",
      "  return self.__pydantic_serializer__.to_python(\n",
      "/mnt/ssd4/lm_compiler/my_env/lib/python3.12/site-packages/pydantic/main.py:441: UserWarning: Pydantic serializer warnings:\n",
      "  Expected `PromptTokensDetails` but got `dict` with value `{'audio_tokens': None, 'cached_tokens': 1792}` - serialized value may not be as expected\n",
      "  return self.__pydantic_serializer__.to_json(\n",
      "/mnt/ssd4/lm_compiler/my_env/lib/python3.12/site-packages/pydantic/main.py:390: UserWarning: Pydantic serializer warnings:\n",
      "  Expected `PromptTokensDetails` but got `dict` with value `{'audio_tokens': None, 'cached_tokens': 1792}` - serialized value may not be as expected\n",
      "  return self.__pydantic_serializer__.to_python(\n",
      "/mnt/ssd4/lm_compiler/my_env/lib/python3.12/site-packages/pydantic/main.py:441: UserWarning: Pydantic serializer warnings:\n",
      "  Expected `PromptTokensDetails` but got `dict` with value `{'audio_tokens': None, 'cached_tokens': 2560}` - serialized value may not be as expected\n",
      "  return self.__pydantic_serializer__.to_json(\n",
      "/mnt/ssd4/lm_compiler/my_env/lib/python3.12/site-packages/pydantic/main.py:390: UserWarning: Pydantic serializer warnings:\n",
      "  Expected `PromptTokensDetails` but got `dict` with value `{'audio_tokens': None, 'cached_tokens': 2560}` - serialized value may not be as expected\n",
      "  return self.__pydantic_serializer__.to_python(\n",
      "/mnt/ssd4/lm_compiler/my_env/lib/python3.12/site-packages/pydantic/main.py:441: UserWarning: Pydantic serializer warnings:\n",
      "  Expected `PromptTokensDetails` but got `dict` with value `{'audio_tokens': None, 'cached_tokens': 2048}` - serialized value may not be as expected\n",
      "  return self.__pydantic_serializer__.to_json(\n",
      "/mnt/ssd4/lm_compiler/my_env/lib/python3.12/site-packages/pydantic/main.py:390: UserWarning: Pydantic serializer warnings:\n",
      "  Expected `PromptTokensDetails` but got `dict` with value `{'audio_tokens': None, 'cached_tokens': 2048}` - serialized value may not be as expected\n",
      "  return self.__pydantic_serializer__.to_python(\n",
      "/mnt/ssd4/lm_compiler/my_env/lib/python3.12/site-packages/pydantic/main.py:441: UserWarning: Pydantic serializer warnings:\n",
      "  Expected `PromptTokensDetails` but got `dict` with value `{'audio_tokens': None, 'cached_tokens': 2176}` - serialized value may not be as expected\n",
      "  return self.__pydantic_serializer__.to_json(\n",
      "/mnt/ssd4/lm_compiler/my_env/lib/python3.12/site-packages/pydantic/main.py:390: UserWarning: Pydantic serializer warnings:\n",
      "  Expected `PromptTokensDetails` but got `dict` with value `{'audio_tokens': None, 'cached_tokens': 2176}` - serialized value may not be as expected\n",
      "  return self.__pydantic_serializer__.to_python(\n"
     ]
    },
    {
     "name": "stdout",
     "output_type": "stream",
     "text": [
      "Proposed Instructions for Predictor 0:\n",
      "\n",
      "0: Given the fields `claim`, `summary_1`, produce the fields `query`.\n",
      "\n",
      "1: Given the input fields `claim`, which represents a statement or assertion that needs to be explored, and `summary_1`, which is a concise overview of the relevant information retrieved from initial documents related to that claim, your task is to generate a follow-up `query`. This query should aim to uncover further relevant information or insights that build upon the initial summary and the claim. Ensure that the query is clear, focused, and designed to elicit additional details that enhance understanding of the claim in context.\n",
      "\n",
      "2: Imagine you are a fact-checker for a major news organization, and you have been tasked with verifying a potentially controversial claim. Given the fields `claim` and `summary_1`, your goal is to produce a precise query that will help uncover the truth behind the claim. This query should seek specific information that can either confirm or refute the claim based on the summarized context.\n",
      "\n",
      "3: You are an investigative researcher tasked with verifying claims and extracting relevant information. Given the fields `claim` and `summary_1`, formulate a detailed query that seeks to uncover additional context and supporting evidence related to the claim.\n",
      "\n",
      "4: Using the provided `claim` and `summary_1`, generate a clear and informative `query` that seeks to clarify or verify the details of the claim based on the context provided in the summary.\n",
      "\n",
      "5: Based on the provided `claim` and `summary_1`, generate a detailed query that seeks to validate the claim by asking for specific evidence or contextual information that supports or refutes it.\n",
      "\n",
      "6: Given the claim and its summary, formulate a query to retrieve evidence that supports or refutes the claim.\n",
      "\n",
      "7: Using the provided `claim` and `summary_1`, generate a detailed query that seeks to clarify or verify the accuracy of the claim. The query should aim to elicit information that confirms or refutes the claim, including relevant context or additional details that may be necessary for a comprehensive understanding.\n",
      "\n",
      "8: Using the claim and summary provided, analyze the relationship between the claim and the summary to formulate a query that seeks to clarify or substantiate the claim. Ensure that the query addresses any discrepancies or missing information highlighted in the summary.\n",
      "\n",
      "9: Imagine you are a fact-checker in a high-stakes news environment where the accuracy of information can influence public opinion and policy. You have been provided with a claim that needs verification. Using the given `claim` and an initial `summary_1`, generate a precise `query` that will help uncover evidence to support or refute the claim. Your goal is to ensure that the information you provide is reliable and well-supported by credible sources.\n",
      "\n",
      "\n",
      "\n",
      "Proposed Instructions for Predictor 1:\n",
      "\n",
      "0: Given the fields `claim`, `summary_1`, `summary_2`, produce the fields `query`.\n",
      "\n",
      "1: Using the provided fields `claim`, `summary_1`, and `summary_2`, generate a detailed and contextually relevant `query` that builds upon the information summarized in the previous steps. Ensure that the query is designed to elicit further relevant information that enhances understanding of the claim.\n",
      "\n",
      "2: Using the provided fields `claim`, `summary_1`, and `summary_2`, generate a detailed query that seeks to verify the accuracy of the claim by exploring the relationships and facts presented in the summaries. Consider how each summary contributes to understanding the claim and frame your query to elicit specific information that confirms or refutes the claim based on the evidence summarized.\n",
      "\n",
      "3: Based on the provided claim and the two summaries, generate a query that seeks to verify the accuracy of the claim by identifying supporting evidence or clarifications regarding the statements made in the summaries.\n",
      "\n",
      "4: You are a fact-checking expert. Given the fields `claim`, `summary_1`, and `summary_2`, analyze the information and produce a comprehensive `query` that seeks to clarify the validity of the claim based on the provided summaries.\n",
      "\n",
      "5: Given the fields `claim`, `summary_1`, `summary_2`, produce the fields `query`. Imagine you are tasked with verifying a critical historical claim that could influence public understanding of an important event. Your role is to ensure accuracy and clarity in your response. Use the provided summaries to construct a query that seeks further verification and details about the claim.\n",
      "\n",
      "6: In a high-stakes situation where accurate information is critical, you are tasked with verifying a complex claim. Given the fields `claim`, `summary_1`, and `summary_2`, your objective is to produce a detailed query that seeks to uncover any evidence supporting or refuting the claim. Remember to think critically and consider the implications of misinformation as you formulate your query.\n",
      "\n",
      "7: Using the provided `claim`, `summary_1`, and `summary_2`, formulate a comprehensive query that seeks to confirm or refute the claim by integrating information from both summaries. The query should aim to clarify the relationship between the claim and the details presented in the summaries, ensuring that it addresses any ambiguities or key points that may arise from the context provided.\n",
      "\n",
      "8: You are an expert fact-checker. Given the fields `claim`, `summary_1`, and `summary_2`, analyze the information and produce a relevant `query` that seeks to clarify or verify the details surrounding the claim, focusing on the accuracy of the connections made in the summaries.\n",
      "\n",
      "9: Given the fields `claim`, `summary_1`, and `summary_2`, please generate a `query` that seeks further clarification or evidence regarding the validity of the claim, based on the provided summaries.\n",
      "\n",
      "\n",
      "\n",
      "Proposed Instructions for Predictor 2:\n",
      "\n",
      "0: Given the fields `claim`, `passages`, produce the fields `summary`.\n",
      "\n",
      "1: Using the provided `claim` and `passages`, generate a detailed `summary` that encapsulates the key points and insights related to the claim, ensuring clarity and conciseness in your response.\n",
      "\n",
      "2: Given the claim and the provided passages, analyze the information to produce a summary that evaluates the claim's validity based on the retrieved data.\n",
      "\n",
      "3: Given the claim and the relevant passages, analyze the information step by step to determine the accuracy of the claim and produce a summary that reflects the findings based on the provided passages.\n",
      "\n",
      "4: Using the provided `claim` and `passages`, evaluate the claim's validity and generate a comprehensive `summary` that confirms or refutes the claim based on the retrieved information. Ensure to include reasoning that supports your conclusion.\n",
      "\n",
      "5: Given the claim and the relevant passages, analyze the information step by step to evaluate the accuracy of the claim and generate a concise summary that highlights the key findings and conclusions derived from the provided passages.\n",
      "\n",
      "6: Given the claim and the provided passages, analyze the information and produce a concise summary that evaluates the validity of the claim based on the content of the passages.\n",
      "\n",
      "7: Using the provided `claim` and `passages`, analyze the information to produce a comprehensive `summary`. Ensure that the summary accurately reflects the validity of the claim based on the context and details found in the passages, highlighting any discrepancies or confirmations regarding the claim's accuracy.\n",
      "\n",
      "8: Using the provided `claim` and `passages`, analyze the content and generate a comprehensive `summary` that evaluates the accuracy of the claim based on the evidence in the passages. Ensure to highlight any discrepancies or confirmations between the claim and the supporting information.\n",
      "\n",
      "9: Given the provided `claim` and `passages`, summarize the key insights that evaluate the validity of the claim based on the information in the passages.\n",
      "\n",
      "\n",
      "\n",
      "Proposed Instructions for Predictor 3:\n",
      "\n",
      "0: Given the fields `claim`, `context`, `passages`, produce the fields `summary`.\n",
      "\n",
      "1: Using the provided `claim`, `context`, and `passages`, create a detailed and concise `summary` that encapsulates the main ideas and relevant information derived from the input fields.\n",
      "\n",
      "2: Given the `claim`, `context`, and `passages`, analyze the information to generate a concise `summary` that reflects the accuracy of the claim based on the provided context and passages.\n",
      "\n",
      "3: Analyze the provided `claim`, `context`, and `passages` to generate a comprehensive `summary` that evaluates the accuracy of the claim based on the information given. Ensure to clearly articulate the reasoning behind the evaluation and highlight key supporting details from the passages.\n",
      "\n",
      "4: You are an expert researcher tasked with verifying claims. Given the fields `claim`, `context`, and `passages`, produce a detailed `summary` that evaluates the accuracy of the claim based on the provided information. Ensure to include reasoning that supports your conclusions.\n",
      "\n",
      "5: Using the provided fields `claim`, `context`, and `passages`, please analyze the information to generate a comprehensive `summary`. Ensure that the summary clearly states whether the claim is true or false, and provide supporting details from the context and passages that justify your conclusion.\n",
      "\n",
      "6: In a high-stakes scenario where the integrity of historical claims is crucial for an upcoming educational initiative, you are tasked with evaluating the validity of a claim. Given the fields `claim`, `context`, and `passages`, summarize whether the provided passages support or contradict the claim. Make sure to consider the details carefully and provide a clear conclusion based on the evidence presented.\n",
      "\n",
      "7: In a high-stakes scenario where accurate information is crucial, you are tasked with validating a claim. Given the fields `claim`, `context`, and `passages`, your goal is to produce a comprehensive `summary` that confirms or refutes the claim based on the evidence provided in the context and passages. Ensure your reasoning is clear and detailed, as this summary may be used in critical discussions or educational settings.\n",
      "\n",
      "8: Given the claim, context, and passages, analyze the information to produce a summary that accurately reflects the relationship between the claim and the provided content, ensuring clarity and correctness in the conclusion drawn.\n",
      "\n",
      "9: Given the fields `claim`, `context`, and `passages`, analyze the information to produce a coherent `summary` that evaluates the validity of the claim based on the provided context and passages.\n",
      "\n",
      "\n",
      "\n",
      "Evaluating the default program...\n",
      "\n"
     ]
    },
    {
     "name": "stderr",
     "output_type": "stream",
     "text": [
      "Average Metric: 17.768142968142964 / 50  (35.5): 100%|██████████| 50/50 [00:21<00:00,  2.31it/s]\n",
      "/mnt/ssd4/lm_compiler/my_env/lib/python3.12/site-packages/optuna/samplers/_tpe/sampler.py:319: ExperimentalWarning: ``multivariate`` option is an experimental feature. The interface can change in the future.\n",
      "  warnings.warn(\n"
     ]
    },
    {
     "name": "stdout",
     "output_type": "stream",
     "text": [
      "Default program score: 35.54\n",
      "\n",
      "==> STEP 3: FINDING OPTIMAL PROMPT PARAMETERS <==\n",
      "In this step, we will evaluate the program over a series of trials with different combinations of instructions and few-shot examples to find the optimal combination. Bayesian Optimization will be used for this search process.\n",
      "\n",
      "== Minibatch Trial 1 / 20 ==\n"
     ]
    },
    {
     "name": "stderr",
     "output_type": "stream",
     "text": [
      "  0%|          | 0/25 [00:00<?, ?it/s]/mnt/ssd4/lm_compiler/my_env/lib/python3.12/site-packages/pydantic/main.py:441: UserWarning: Pydantic serializer warnings:\n",
      "  Expected `PromptTokensDetails` but got `dict` with value `{'audio_tokens': None, 'cached_tokens': 9216}` - serialized value may not be as expected\n",
      "  return self.__pydantic_serializer__.to_json(\n",
      "/mnt/ssd4/lm_compiler/my_env/lib/python3.12/site-packages/pydantic/main.py:390: UserWarning: Pydantic serializer warnings:\n",
      "  Expected `PromptTokensDetails` but got `dict` with value `{'audio_tokens': None, 'cached_tokens': 9216}` - serialized value may not be as expected\n",
      "  return self.__pydantic_serializer__.to_python(\n",
      "/mnt/ssd4/lm_compiler/my_env/lib/python3.12/site-packages/pydantic/main.py:441: UserWarning: Pydantic serializer warnings:\n",
      "  Expected `PromptTokensDetails` but got `dict` with value `{'audio_tokens': None, 'cached_tokens': 4992}` - serialized value may not be as expected\n",
      "  return self.__pydantic_serializer__.to_json(\n",
      "/mnt/ssd4/lm_compiler/my_env/lib/python3.12/site-packages/pydantic/main.py:390: UserWarning: Pydantic serializer warnings:\n",
      "  Expected `PromptTokensDetails` but got `dict` with value `{'audio_tokens': None, 'cached_tokens': 4992}` - serialized value may not be as expected\n",
      "  return self.__pydantic_serializer__.to_python(\n",
      "Average Metric: 0.4 / 1  (40.0):   4%|▍         | 1/25 [00:06<02:45,  6.90s/it]/mnt/ssd4/lm_compiler/my_env/lib/python3.12/site-packages/pydantic/main.py:441: UserWarning: Pydantic serializer warnings:\n",
      "  Expected `PromptTokensDetails` but got `dict` with value `{'audio_tokens': None, 'cached_tokens': 6144}` - serialized value may not be as expected\n",
      "  return self.__pydantic_serializer__.to_json(\n",
      "/mnt/ssd4/lm_compiler/my_env/lib/python3.12/site-packages/pydantic/main.py:390: UserWarning: Pydantic serializer warnings:\n",
      "  Expected `PromptTokensDetails` but got `dict` with value `{'audio_tokens': None, 'cached_tokens': 6144}` - serialized value may not be as expected\n",
      "  return self.__pydantic_serializer__.to_python(\n",
      "Average Metric: 8.395299145299145 / 25  (33.6): 100%|██████████| 25/25 [00:14<00:00,  1.73it/s] \n"
     ]
    },
    {
     "name": "stdout",
     "output_type": "stream",
     "text": [
      "Score: 33.58 on minibatch of size 25 with parameters ['Predictor 1: Instruction 1', 'Predictor 1: Few-Shot Set 2', 'Predictor 2: Instruction 6', 'Predictor 2: Few-Shot Set 2', 'Predictor 3: Instruction 8', 'Predictor 3: Few-Shot Set 6', 'Predictor 4: Instruction 4', 'Predictor 4: Few-Shot Set 5'].\n",
      "\n",
      "\n",
      "== Minibatch Trial 2 / 20 ==\n"
     ]
    },
    {
     "name": "stderr",
     "output_type": "stream",
     "text": [
      "  0%|          | 0/25 [00:00<?, ?it/s]/mnt/ssd4/lm_compiler/my_env/lib/python3.12/site-packages/pydantic/main.py:441: UserWarning: Pydantic serializer warnings:\n",
      "  Expected `PromptTokensDetails` but got `dict` with value `{'audio_tokens': None, 'cached_tokens': 2432}` - serialized value may not be as expected\n",
      "  return self.__pydantic_serializer__.to_json(\n",
      "/mnt/ssd4/lm_compiler/my_env/lib/python3.12/site-packages/pydantic/main.py:390: UserWarning: Pydantic serializer warnings:\n",
      "  Expected `PromptTokensDetails` but got `dict` with value `{'audio_tokens': None, 'cached_tokens': 2432}` - serialized value may not be as expected\n",
      "  return self.__pydantic_serializer__.to_python(\n",
      "/mnt/ssd4/lm_compiler/my_env/lib/python3.12/site-packages/pydantic/main.py:441: UserWarning: Pydantic serializer warnings:\n",
      "  Expected `PromptTokensDetails` but got `dict` with value `{'audio_tokens': None, 'cached_tokens': 5888}` - serialized value may not be as expected\n",
      "  return self.__pydantic_serializer__.to_json(\n",
      "/mnt/ssd4/lm_compiler/my_env/lib/python3.12/site-packages/pydantic/main.py:390: UserWarning: Pydantic serializer warnings:\n",
      "  Expected `PromptTokensDetails` but got `dict` with value `{'audio_tokens': None, 'cached_tokens': 5888}` - serialized value may not be as expected\n",
      "  return self.__pydantic_serializer__.to_python(\n",
      "Average Metric: 0.4444444444444444 / 1  (44.4):   4%|▍         | 1/25 [00:06<02:29,  6.23s/it]/mnt/ssd4/lm_compiler/my_env/lib/python3.12/site-packages/pydantic/main.py:441: UserWarning: Pydantic serializer warnings:\n",
      "  Expected `PromptTokensDetails` but got `dict` with value `{'audio_tokens': None, 'cached_tokens': 4224}` - serialized value may not be as expected\n",
      "  return self.__pydantic_serializer__.to_json(\n",
      "/mnt/ssd4/lm_compiler/my_env/lib/python3.12/site-packages/pydantic/main.py:390: UserWarning: Pydantic serializer warnings:\n",
      "  Expected `PromptTokensDetails` but got `dict` with value `{'audio_tokens': None, 'cached_tokens': 4224}` - serialized value may not be as expected\n",
      "  return self.__pydantic_serializer__.to_python(\n",
      "Average Metric: 7.362626262626263 / 25  (29.5): 100%|██████████| 25/25 [00:15<00:00,  1.61it/s] \n"
     ]
    },
    {
     "name": "stdout",
     "output_type": "stream",
     "text": [
      "Score: 29.45 on minibatch of size 25 with parameters ['Predictor 1: Instruction 3', 'Predictor 1: Few-Shot Set 8', 'Predictor 2: Instruction 2', 'Predictor 2: Few-Shot Set 3', 'Predictor 3: Instruction 9', 'Predictor 3: Few-Shot Set 5', 'Predictor 4: Instruction 7', 'Predictor 4: Few-Shot Set 4'].\n",
      "\n",
      "\n",
      "== Minibatch Trial 3 / 20 ==\n"
     ]
    },
    {
     "name": "stderr",
     "output_type": "stream",
     "text": [
      "Average Metric: 8.54114219114219 / 25  (34.2): 100%|██████████| 25/25 [00:15<00:00,  1.63it/s]  \n"
     ]
    },
    {
     "name": "stdout",
     "output_type": "stream",
     "text": [
      "Score: 34.16 on minibatch of size 25 with parameters ['Predictor 1: Instruction 0', 'Predictor 1: Few-Shot Set 7', 'Predictor 2: Instruction 9', 'Predictor 2: Few-Shot Set 7', 'Predictor 3: Instruction 5', 'Predictor 3: Few-Shot Set 0', 'Predictor 4: Instruction 9', 'Predictor 4: Few-Shot Set 5'].\n",
      "\n",
      "\n",
      "== Minibatch Trial 4 / 20 ==\n"
     ]
    },
    {
     "name": "stderr",
     "output_type": "stream",
     "text": [
      "  0%|          | 0/25 [00:00<?, ?it/s]/mnt/ssd4/lm_compiler/my_env/lib/python3.12/site-packages/pydantic/main.py:441: UserWarning: Pydantic serializer warnings:\n",
      "  Expected `PromptTokensDetails` but got `dict` with value `{'audio_tokens': None, 'cached_tokens': 22784}` - serialized value may not be as expected\n",
      "  return self.__pydantic_serializer__.to_json(\n",
      "/mnt/ssd4/lm_compiler/my_env/lib/python3.12/site-packages/pydantic/main.py:390: UserWarning: Pydantic serializer warnings:\n",
      "  Expected `PromptTokensDetails` but got `dict` with value `{'audio_tokens': None, 'cached_tokens': 22784}` - serialized value may not be as expected\n",
      "  return self.__pydantic_serializer__.to_python(\n",
      "/mnt/ssd4/lm_compiler/my_env/lib/python3.12/site-packages/pydantic/main.py:441: UserWarning: Pydantic serializer warnings:\n",
      "  Expected `PromptTokensDetails` but got `dict` with value `{'audio_tokens': None, 'cached_tokens': 4864}` - serialized value may not be as expected\n",
      "  return self.__pydantic_serializer__.to_json(\n",
      "/mnt/ssd4/lm_compiler/my_env/lib/python3.12/site-packages/pydantic/main.py:390: UserWarning: Pydantic serializer warnings:\n",
      "  Expected `PromptTokensDetails` but got `dict` with value `{'audio_tokens': None, 'cached_tokens': 4864}` - serialized value may not be as expected\n",
      "  return self.__pydantic_serializer__.to_python(\n",
      "/mnt/ssd4/lm_compiler/my_env/lib/python3.12/site-packages/pydantic/main.py:441: UserWarning: Pydantic serializer warnings:\n",
      "  Expected `PromptTokensDetails` but got `dict` with value `{'audio_tokens': None, 'cached_tokens': 22656}` - serialized value may not be as expected\n",
      "  return self.__pydantic_serializer__.to_json(\n",
      "/mnt/ssd4/lm_compiler/my_env/lib/python3.12/site-packages/pydantic/main.py:390: UserWarning: Pydantic serializer warnings:\n",
      "  Expected `PromptTokensDetails` but got `dict` with value `{'audio_tokens': None, 'cached_tokens': 22656}` - serialized value may not be as expected\n",
      "  return self.__pydantic_serializer__.to_python(\n",
      "Average Metric: 8.414413364413363 / 25  (33.7): 100%|██████████| 25/25 [00:20<00:00,  1.19it/s] \n"
     ]
    },
    {
     "name": "stdout",
     "output_type": "stream",
     "text": [
      "Score: 33.66 on minibatch of size 25 with parameters ['Predictor 1: Instruction 6', 'Predictor 1: Few-Shot Set 9', 'Predictor 2: Instruction 4', 'Predictor 2: Few-Shot Set 7', 'Predictor 3: Instruction 1', 'Predictor 3: Few-Shot Set 8', 'Predictor 4: Instruction 9', 'Predictor 4: Few-Shot Set 8'].\n",
      "\n",
      "\n",
      "== Minibatch Trial 5 / 20 ==\n"
     ]
    },
    {
     "name": "stderr",
     "output_type": "stream",
     "text": [
      "  0%|          | 0/25 [00:00<?, ?it/s]/mnt/ssd4/lm_compiler/my_env/lib/python3.12/site-packages/pydantic/main.py:441: UserWarning: Pydantic serializer warnings:\n",
      "  Expected `PromptTokensDetails` but got `dict` with value `{'audio_tokens': None, 'cached_tokens': 9088}` - serialized value may not be as expected\n",
      "  return self.__pydantic_serializer__.to_json(\n",
      "/mnt/ssd4/lm_compiler/my_env/lib/python3.12/site-packages/pydantic/main.py:390: UserWarning: Pydantic serializer warnings:\n",
      "  Expected `PromptTokensDetails` but got `dict` with value `{'audio_tokens': None, 'cached_tokens': 9088}` - serialized value may not be as expected\n",
      "  return self.__pydantic_serializer__.to_python(\n",
      "Average Metric: 8.336596736596734 / 25  (33.3): 100%|██████████| 25/25 [00:17<00:00,  1.45it/s] \n"
     ]
    },
    {
     "name": "stdout",
     "output_type": "stream",
     "text": [
      "Score: 33.35 on minibatch of size 25 with parameters ['Predictor 1: Instruction 2', 'Predictor 1: Few-Shot Set 4', 'Predictor 2: Instruction 7', 'Predictor 2: Few-Shot Set 6', 'Predictor 3: Instruction 2', 'Predictor 3: Few-Shot Set 6', 'Predictor 4: Instruction 8', 'Predictor 4: Few-Shot Set 8'].\n",
      "\n",
      "\n",
      "== Minibatch Trial 6 / 20 ==\n"
     ]
    },
    {
     "name": "stderr",
     "output_type": "stream",
     "text": [
      "  0%|          | 0/25 [00:00<?, ?it/s]/mnt/ssd4/lm_compiler/my_env/lib/python3.12/site-packages/pydantic/main.py:441: UserWarning: Pydantic serializer warnings:\n",
      "  Expected `PromptTokensDetails` but got `dict` with value `{'audio_tokens': None, 'cached_tokens': 8192}` - serialized value may not be as expected\n",
      "  return self.__pydantic_serializer__.to_json(\n",
      "/mnt/ssd4/lm_compiler/my_env/lib/python3.12/site-packages/pydantic/main.py:390: UserWarning: Pydantic serializer warnings:\n",
      "  Expected `PromptTokensDetails` but got `dict` with value `{'audio_tokens': None, 'cached_tokens': 8192}` - serialized value may not be as expected\n",
      "  return self.__pydantic_serializer__.to_python(\n",
      "/mnt/ssd4/lm_compiler/my_env/lib/python3.12/site-packages/pydantic/main.py:441: UserWarning: Pydantic serializer warnings:\n",
      "  Expected `PromptTokensDetails` but got `dict` with value `{'audio_tokens': None, 'cached_tokens': 8960}` - serialized value may not be as expected\n",
      "  return self.__pydantic_serializer__.to_json(\n",
      "/mnt/ssd4/lm_compiler/my_env/lib/python3.12/site-packages/pydantic/main.py:390: UserWarning: Pydantic serializer warnings:\n",
      "  Expected `PromptTokensDetails` but got `dict` with value `{'audio_tokens': None, 'cached_tokens': 8960}` - serialized value may not be as expected\n",
      "  return self.__pydantic_serializer__.to_python(\n",
      "Average Metric: 9.948407148407147 / 25  (39.8): 100%|██████████| 25/25 [00:16<00:00,  1.55it/s] \n"
     ]
    },
    {
     "name": "stdout",
     "output_type": "stream",
     "text": [
      "Score: 39.79 on minibatch of size 25 with parameters ['Predictor 1: Instruction 1', 'Predictor 1: Few-Shot Set 8', 'Predictor 2: Instruction 8', 'Predictor 2: Few-Shot Set 3', 'Predictor 3: Instruction 1', 'Predictor 3: Few-Shot Set 7', 'Predictor 4: Instruction 3', 'Predictor 4: Few-Shot Set 6'].\n",
      "\n",
      "\n",
      "== Minibatch Trial 7 / 20 ==\n"
     ]
    },
    {
     "name": "stderr",
     "output_type": "stream",
     "text": [
      "  0%|          | 0/25 [00:00<?, ?it/s]/mnt/ssd4/lm_compiler/my_env/lib/python3.12/site-packages/pydantic/main.py:441: UserWarning: Pydantic serializer warnings:\n",
      "  Expected `PromptTokensDetails` but got `dict` with value `{'audio_tokens': None, 'cached_tokens': 12672}` - serialized value may not be as expected\n",
      "  return self.__pydantic_serializer__.to_json(\n",
      "/mnt/ssd4/lm_compiler/my_env/lib/python3.12/site-packages/pydantic/main.py:390: UserWarning: Pydantic serializer warnings:\n",
      "  Expected `PromptTokensDetails` but got `dict` with value `{'audio_tokens': None, 'cached_tokens': 12672}` - serialized value may not be as expected\n",
      "  return self.__pydantic_serializer__.to_python(\n",
      "/mnt/ssd4/lm_compiler/my_env/lib/python3.12/site-packages/pydantic/main.py:441: UserWarning: Pydantic serializer warnings:\n",
      "  Expected `PromptTokensDetails` but got `dict` with value `{'audio_tokens': None, 'cached_tokens': 21248}` - serialized value may not be as expected\n",
      "  return self.__pydantic_serializer__.to_json(\n",
      "/mnt/ssd4/lm_compiler/my_env/lib/python3.12/site-packages/pydantic/main.py:390: UserWarning: Pydantic serializer warnings:\n",
      "  Expected `PromptTokensDetails` but got `dict` with value `{'audio_tokens': None, 'cached_tokens': 21248}` - serialized value may not be as expected\n",
      "  return self.__pydantic_serializer__.to_python(\n",
      "Average Metric: 8.873970473970475 / 25  (35.5): 100%|██████████| 25/25 [00:18<00:00,  1.35it/s] \n"
     ]
    },
    {
     "name": "stdout",
     "output_type": "stream",
     "text": [
      "Score: 35.5 on minibatch of size 25 with parameters ['Predictor 1: Instruction 9', 'Predictor 1: Few-Shot Set 0', 'Predictor 2: Instruction 3', 'Predictor 2: Few-Shot Set 4', 'Predictor 3: Instruction 2', 'Predictor 3: Few-Shot Set 3', 'Predictor 4: Instruction 2', 'Predictor 4: Few-Shot Set 2'].\n",
      "\n",
      "\n",
      "== Minibatch Trial 8 / 20 ==\n"
     ]
    },
    {
     "name": "stderr",
     "output_type": "stream",
     "text": [
      "  0%|          | 0/25 [00:00<?, ?it/s]/mnt/ssd4/lm_compiler/my_env/lib/python3.12/site-packages/pydantic/main.py:441: UserWarning: Pydantic serializer warnings:\n",
      "  Expected `PromptTokensDetails` but got `dict` with value `{'audio_tokens': None, 'cached_tokens': 3328}` - serialized value may not be as expected\n",
      "  return self.__pydantic_serializer__.to_json(\n",
      "/mnt/ssd4/lm_compiler/my_env/lib/python3.12/site-packages/pydantic/main.py:390: UserWarning: Pydantic serializer warnings:\n",
      "  Expected `PromptTokensDetails` but got `dict` with value `{'audio_tokens': None, 'cached_tokens': 3328}` - serialized value may not be as expected\n",
      "  return self.__pydantic_serializer__.to_python(\n",
      "/mnt/ssd4/lm_compiler/my_env/lib/python3.12/site-packages/pydantic/main.py:441: UserWarning: Pydantic serializer warnings:\n",
      "  Expected `PromptTokensDetails` but got `dict` with value `{'audio_tokens': None, 'cached_tokens': 12544}` - serialized value may not be as expected\n",
      "  return self.__pydantic_serializer__.to_json(\n",
      "/mnt/ssd4/lm_compiler/my_env/lib/python3.12/site-packages/pydantic/main.py:390: UserWarning: Pydantic serializer warnings:\n",
      "  Expected `PromptTokensDetails` but got `dict` with value `{'audio_tokens': None, 'cached_tokens': 12544}` - serialized value may not be as expected\n",
      "  return self.__pydantic_serializer__.to_python(\n",
      "Average Metric: 7.94094794094794 / 25  (31.8): 100%|██████████| 25/25 [00:14<00:00,  1.74it/s]  \n"
     ]
    },
    {
     "name": "stdout",
     "output_type": "stream",
     "text": [
      "Score: 31.76 on minibatch of size 25 with parameters ['Predictor 1: Instruction 4', 'Predictor 1: Few-Shot Set 3', 'Predictor 2: Instruction 5', 'Predictor 2: Few-Shot Set 1', 'Predictor 3: Instruction 0', 'Predictor 3: Few-Shot Set 5', 'Predictor 4: Instruction 9', 'Predictor 4: Few-Shot Set 3'].\n",
      "\n",
      "\n",
      "== Minibatch Trial 9 / 20 ==\n"
     ]
    },
    {
     "name": "stderr",
     "output_type": "stream",
     "text": [
      "  0%|          | 0/25 [00:00<?, ?it/s]/mnt/ssd4/lm_compiler/my_env/lib/python3.12/site-packages/pydantic/main.py:441: UserWarning: Pydantic serializer warnings:\n",
      "  Expected `PromptTokensDetails` but got `dict` with value `{'audio_tokens': None, 'cached_tokens': 1152}` - serialized value may not be as expected\n",
      "  return self.__pydantic_serializer__.to_json(\n",
      "/mnt/ssd4/lm_compiler/my_env/lib/python3.12/site-packages/pydantic/main.py:390: UserWarning: Pydantic serializer warnings:\n",
      "  Expected `PromptTokensDetails` but got `dict` with value `{'audio_tokens': None, 'cached_tokens': 1152}` - serialized value may not be as expected\n",
      "  return self.__pydantic_serializer__.to_python(\n",
      "/mnt/ssd4/lm_compiler/my_env/lib/python3.12/site-packages/pydantic/main.py:441: UserWarning: Pydantic serializer warnings:\n",
      "  Expected `PromptTokensDetails` but got `dict` with value `{'audio_tokens': None, 'cached_tokens': 12416}` - serialized value may not be as expected\n",
      "  return self.__pydantic_serializer__.to_json(\n",
      "/mnt/ssd4/lm_compiler/my_env/lib/python3.12/site-packages/pydantic/main.py:390: UserWarning: Pydantic serializer warnings:\n",
      "  Expected `PromptTokensDetails` but got `dict` with value `{'audio_tokens': None, 'cached_tokens': 12416}` - serialized value may not be as expected\n",
      "  return self.__pydantic_serializer__.to_python(\n",
      "Average Metric: 8.12680652680653 / 25  (32.5): 100%|██████████| 25/25 [00:17<00:00,  1.44it/s]  \n"
     ]
    },
    {
     "name": "stdout",
     "output_type": "stream",
     "text": [
      "Score: 32.51 on minibatch of size 25 with parameters ['Predictor 1: Instruction 7', 'Predictor 1: Few-Shot Set 8', 'Predictor 2: Instruction 8', 'Predictor 2: Few-Shot Set 2', 'Predictor 3: Instruction 6', 'Predictor 3: Few-Shot Set 1', 'Predictor 4: Instruction 0', 'Predictor 4: Few-Shot Set 3'].\n",
      "\n",
      "\n",
      "== Minibatch Trial 10 / 20 ==\n"
     ]
    },
    {
     "name": "stderr",
     "output_type": "stream",
     "text": [
      "Average Metric: 8.77233877233877 / 25  (35.1): 100%|██████████| 25/25 [00:14<00:00,  1.70it/s] \n"
     ]
    },
    {
     "name": "stdout",
     "output_type": "stream",
     "text": [
      "Score: 35.09 on minibatch of size 25 with parameters ['Predictor 1: Instruction 7', 'Predictor 1: Few-Shot Set 5', 'Predictor 2: Instruction 6', 'Predictor 2: Few-Shot Set 6', 'Predictor 3: Instruction 6', 'Predictor 3: Few-Shot Set 6', 'Predictor 4: Instruction 0', 'Predictor 4: Few-Shot Set 0'].\n",
      "\n",
      "\n",
      "===== Full Eval 1 =====\n",
      "Doing full eval on next top averaging program (Avg Score: 39.79) so far from mini-batch trials...\n"
     ]
    },
    {
     "name": "stderr",
     "output_type": "stream",
     "text": [
      "Average Metric: 18.51674436674436 / 50  (37.0): 100%|██████████| 50/50 [00:18<00:00,  2.63it/s] \n"
     ]
    },
    {
     "name": "stdout",
     "output_type": "stream",
     "text": [
      "\u001b[92mBest full eval score so far!\u001b[0m Score: 37.03\n",
      "=======================\n",
      "\n",
      "\n",
      "== Minibatch Trial 11 / 20 ==\n"
     ]
    },
    {
     "name": "stderr",
     "output_type": "stream",
     "text": [
      "Average Metric: 8.67956487956488 / 25  (34.7): 100%|██████████| 25/25 [00:09<00:00,  2.50it/s]  \n"
     ]
    },
    {
     "name": "stdout",
     "output_type": "stream",
     "text": [
      "Score: 34.72 on minibatch of size 25 with parameters ['Predictor 1: Instruction 5', 'Predictor 1: Few-Shot Set 9', 'Predictor 2: Instruction 8', 'Predictor 2: Few-Shot Set 2', 'Predictor 3: Instruction 1', 'Predictor 3: Few-Shot Set 7', 'Predictor 4: Instruction 6', 'Predictor 4: Few-Shot Set 6'].\n",
      "\n",
      "\n",
      "== Minibatch Trial 12 / 20 ==\n"
     ]
    },
    {
     "name": "stderr",
     "output_type": "stream",
     "text": [
      "  0%|          | 0/25 [00:00<?, ?it/s]/mnt/ssd4/lm_compiler/my_env/lib/python3.12/site-packages/pydantic/main.py:441: UserWarning: Pydantic serializer warnings:\n",
      "  Expected `PromptTokensDetails` but got `dict` with value `{'audio_tokens': None, 'cached_tokens': 5120}` - serialized value may not be as expected\n",
      "  return self.__pydantic_serializer__.to_json(\n",
      "/mnt/ssd4/lm_compiler/my_env/lib/python3.12/site-packages/pydantic/main.py:390: UserWarning: Pydantic serializer warnings:\n",
      "  Expected `PromptTokensDetails` but got `dict` with value `{'audio_tokens': None, 'cached_tokens': 5120}` - serialized value may not be as expected\n",
      "  return self.__pydantic_serializer__.to_python(\n",
      "Average Metric: 8.342074592074592 / 25  (33.4): 100%|██████████| 25/25 [01:41<00:00,  4.04s/it] \n"
     ]
    },
    {
     "name": "stdout",
     "output_type": "stream",
     "text": [
      "Score: 33.37 on minibatch of size 25 with parameters ['Predictor 1: Instruction 1', 'Predictor 1: Few-Shot Set 8', 'Predictor 2: Instruction 8', 'Predictor 2: Few-Shot Set 3', 'Predictor 3: Instruction 7', 'Predictor 3: Few-Shot Set 8', 'Predictor 4: Instruction 3', 'Predictor 4: Few-Shot Set 6'].\n",
      "\n",
      "\n",
      "== Minibatch Trial 13 / 20 ==\n"
     ]
    },
    {
     "name": "stderr",
     "output_type": "stream",
     "text": [
      "Average Metric: 7.567521367521368 / 25  (30.3): 100%|██████████| 25/25 [00:19<00:00,  1.26it/s] \n"
     ]
    },
    {
     "name": "stdout",
     "output_type": "stream",
     "text": [
      "Score: 30.27 on minibatch of size 25 with parameters ['Predictor 1: Instruction 9', 'Predictor 1: Few-Shot Set 0', 'Predictor 2: Instruction 6', 'Predictor 2: Few-Shot Set 9', 'Predictor 3: Instruction 0', 'Predictor 3: Few-Shot Set 3', 'Predictor 4: Instruction 3', 'Predictor 4: Few-Shot Set 2'].\n",
      "\n",
      "\n",
      "== Minibatch Trial 14 / 20 ==\n"
     ]
    },
    {
     "name": "stderr",
     "output_type": "stream",
     "text": [
      "Average Metric: 9.016783216783214 / 25  (36.1): 100%|██████████| 25/25 [00:16<00:00,  1.54it/s] \n"
     ]
    },
    {
     "name": "stdout",
     "output_type": "stream",
     "text": [
      "Score: 36.07 on minibatch of size 25 with parameters ['Predictor 1: Instruction 4', 'Predictor 1: Few-Shot Set 0', 'Predictor 2: Instruction 3', 'Predictor 2: Few-Shot Set 5', 'Predictor 3: Instruction 2', 'Predictor 3: Few-Shot Set 3', 'Predictor 4: Instruction 1', 'Predictor 4: Few-Shot Set 2'].\n",
      "\n",
      "\n",
      "== Minibatch Trial 15 / 20 ==\n"
     ]
    },
    {
     "name": "stderr",
     "output_type": "stream",
     "text": [
      "  0%|          | 0/25 [00:00<?, ?it/s]/mnt/ssd4/lm_compiler/my_env/lib/python3.12/site-packages/pydantic/main.py:441: UserWarning: Pydantic serializer warnings:\n",
      "  Expected `PromptTokensDetails` but got `dict` with value `{'audio_tokens': None, 'cached_tokens': 5504}` - serialized value may not be as expected\n",
      "  return self.__pydantic_serializer__.to_json(\n",
      "/mnt/ssd4/lm_compiler/my_env/lib/python3.12/site-packages/pydantic/main.py:390: UserWarning: Pydantic serializer warnings:\n",
      "  Expected `PromptTokensDetails` but got `dict` with value `{'audio_tokens': None, 'cached_tokens': 5504}` - serialized value may not be as expected\n",
      "  return self.__pydantic_serializer__.to_python(\n",
      "Average Metric: 7.955089355089356 / 25  (31.8): 100%|██████████| 25/25 [00:17<00:00,  1.43it/s] \n"
     ]
    },
    {
     "name": "stdout",
     "output_type": "stream",
     "text": [
      "Score: 31.82 on minibatch of size 25 with parameters ['Predictor 1: Instruction 4', 'Predictor 1: Few-Shot Set 4', 'Predictor 2: Instruction 2', 'Predictor 2: Few-Shot Set 5', 'Predictor 3: Instruction 4', 'Predictor 3: Few-Shot Set 4', 'Predictor 4: Instruction 1', 'Predictor 4: Few-Shot Set 2'].\n",
      "\n",
      "\n",
      "== Minibatch Trial 16 / 20 ==\n"
     ]
    },
    {
     "name": "stderr",
     "output_type": "stream",
     "text": [
      "  0%|          | 0/25 [00:00<?, ?it/s]/mnt/ssd4/lm_compiler/my_env/lib/python3.12/site-packages/pydantic/main.py:441: UserWarning: Pydantic serializer warnings:\n",
      "  Expected `PromptTokensDetails` but got `dict` with value `{'audio_tokens': None, 'cached_tokens': 4096}` - serialized value may not be as expected\n",
      "  return self.__pydantic_serializer__.to_json(\n",
      "/mnt/ssd4/lm_compiler/my_env/lib/python3.12/site-packages/pydantic/main.py:390: UserWarning: Pydantic serializer warnings:\n",
      "  Expected `PromptTokensDetails` but got `dict` with value `{'audio_tokens': None, 'cached_tokens': 4096}` - serialized value may not be as expected\n",
      "  return self.__pydantic_serializer__.to_python(\n",
      "Average Metric: 8.104895104895103 / 25  (32.4): 100%|██████████| 25/25 [00:16<00:00,  1.53it/s] \n"
     ]
    },
    {
     "name": "stdout",
     "output_type": "stream",
     "text": [
      "Score: 32.42 on minibatch of size 25 with parameters ['Predictor 1: Instruction 1', 'Predictor 1: Few-Shot Set 2', 'Predictor 2: Instruction 3', 'Predictor 2: Few-Shot Set 3', 'Predictor 3: Instruction 2', 'Predictor 3: Few-Shot Set 7', 'Predictor 4: Instruction 3', 'Predictor 4: Few-Shot Set 4'].\n",
      "\n",
      "\n",
      "== Minibatch Trial 17 / 20 ==\n"
     ]
    },
    {
     "name": "stderr",
     "output_type": "stream",
     "text": [
      "Average Metric: 9.341452991452988 / 25  (37.4): 100%|██████████| 25/25 [00:11<00:00,  2.25it/s] \n"
     ]
    },
    {
     "name": "stdout",
     "output_type": "stream",
     "text": [
      "Score: 37.37 on minibatch of size 25 with parameters ['Predictor 1: Instruction 4', 'Predictor 1: Few-Shot Set 8', 'Predictor 2: Instruction 5', 'Predictor 2: Few-Shot Set 3', 'Predictor 3: Instruction 1', 'Predictor 3: Few-Shot Set 7', 'Predictor 4: Instruction 1', 'Predictor 4: Few-Shot Set 5'].\n",
      "\n",
      "\n",
      "== Minibatch Trial 18 / 20 ==\n"
     ]
    },
    {
     "name": "stderr",
     "output_type": "stream",
     "text": [
      "Average Metric: 5.417599067599068 / 15  (36.1):  60%|██████    | 15/25 [00:05<00:01,  6.15it/s]/mnt/ssd4/lm_compiler/my_env/lib/python3.12/site-packages/pydantic/main.py:441: UserWarning: Pydantic serializer warnings:\n",
      "  Expected `PromptTokensDetails` but got `dict` with value `{'audio_tokens': None, 'cached_tokens': 4352}` - serialized value may not be as expected\n",
      "  return self.__pydantic_serializer__.to_json(\n",
      "/mnt/ssd4/lm_compiler/my_env/lib/python3.12/site-packages/pydantic/main.py:390: UserWarning: Pydantic serializer warnings:\n",
      "  Expected `PromptTokensDetails` but got `dict` with value `{'audio_tokens': None, 'cached_tokens': 4352}` - serialized value may not be as expected\n",
      "  return self.__pydantic_serializer__.to_python(\n",
      "Average Metric: 9.37882672882673 / 25  (37.5): 100%|██████████| 25/25 [00:11<00:00,  2.23it/s] \n"
     ]
    },
    {
     "name": "stdout",
     "output_type": "stream",
     "text": [
      "Score: 37.52 on minibatch of size 25 with parameters ['Predictor 1: Instruction 3', 'Predictor 1: Few-Shot Set 8', 'Predictor 2: Instruction 5', 'Predictor 2: Few-Shot Set 3', 'Predictor 3: Instruction 1', 'Predictor 3: Few-Shot Set 7', 'Predictor 4: Instruction 1', 'Predictor 4: Few-Shot Set 5'].\n",
      "\n",
      "\n",
      "== Minibatch Trial 19 / 20 ==\n"
     ]
    },
    {
     "name": "stderr",
     "output_type": "stream",
     "text": [
      "  0%|          | 0/25 [00:00<?, ?it/s]/mnt/ssd4/lm_compiler/my_env/lib/python3.12/site-packages/pydantic/main.py:441: UserWarning: Pydantic serializer warnings:\n",
      "  Expected `PromptTokensDetails` but got `dict` with value `{'audio_tokens': None, 'cached_tokens': 9344}` - serialized value may not be as expected\n",
      "  return self.__pydantic_serializer__.to_json(\n",
      "/mnt/ssd4/lm_compiler/my_env/lib/python3.12/site-packages/pydantic/main.py:390: UserWarning: Pydantic serializer warnings:\n",
      "  Expected `PromptTokensDetails` but got `dict` with value `{'audio_tokens': None, 'cached_tokens': 9344}` - serialized value may not be as expected\n",
      "  return self.__pydantic_serializer__.to_python(\n",
      "/mnt/ssd4/lm_compiler/my_env/lib/python3.12/site-packages/pydantic/main.py:441: UserWarning: Pydantic serializer warnings:\n",
      "  Expected `PromptTokensDetails` but got `dict` with value `{'audio_tokens': None, 'cached_tokens': 9472}` - serialized value may not be as expected\n",
      "  return self.__pydantic_serializer__.to_json(\n",
      "/mnt/ssd4/lm_compiler/my_env/lib/python3.12/site-packages/pydantic/main.py:390: UserWarning: Pydantic serializer warnings:\n",
      "  Expected `PromptTokensDetails` but got `dict` with value `{'audio_tokens': None, 'cached_tokens': 9472}` - serialized value may not be as expected\n",
      "  return self.__pydantic_serializer__.to_python(\n",
      "Average Metric: 8.89067599067599 / 25  (35.6): 100%|██████████| 25/25 [00:10<00:00,  2.37it/s]  \n"
     ]
    },
    {
     "name": "stdout",
     "output_type": "stream",
     "text": [
      "Score: 35.56 on minibatch of size 25 with parameters ['Predictor 1: Instruction 1', 'Predictor 1: Few-Shot Set 0', 'Predictor 2: Instruction 9', 'Predictor 2: Few-Shot Set 6', 'Predictor 3: Instruction 1', 'Predictor 3: Few-Shot Set 7', 'Predictor 4: Instruction 3', 'Predictor 4: Few-Shot Set 6'].\n",
      "\n",
      "\n",
      "== Minibatch Trial 20 / 20 ==\n"
     ]
    },
    {
     "name": "stderr",
     "output_type": "stream",
     "text": [
      "  0%|          | 0/25 [00:00<?, ?it/s]/mnt/ssd4/lm_compiler/my_env/lib/python3.12/site-packages/pydantic/main.py:441: UserWarning: Pydantic serializer warnings:\n",
      "  Expected `PromptTokensDetails` but got `dict` with value `{'audio_tokens': None, 'cached_tokens': 1920}` - serialized value may not be as expected\n",
      "  return self.__pydantic_serializer__.to_json(\n",
      "/mnt/ssd4/lm_compiler/my_env/lib/python3.12/site-packages/pydantic/main.py:390: UserWarning: Pydantic serializer warnings:\n",
      "  Expected `PromptTokensDetails` but got `dict` with value `{'audio_tokens': None, 'cached_tokens': 1920}` - serialized value may not be as expected\n",
      "  return self.__pydantic_serializer__.to_python(\n",
      "/mnt/ssd4/lm_compiler/my_env/lib/python3.12/site-packages/pydantic/main.py:441: UserWarning: Pydantic serializer warnings:\n",
      "  Expected `PromptTokensDetails` but got `dict` with value `{'audio_tokens': None, 'cached_tokens': 7680}` - serialized value may not be as expected\n",
      "  return self.__pydantic_serializer__.to_json(\n",
      "/mnt/ssd4/lm_compiler/my_env/lib/python3.12/site-packages/pydantic/main.py:390: UserWarning: Pydantic serializer warnings:\n",
      "  Expected `PromptTokensDetails` but got `dict` with value `{'audio_tokens': None, 'cached_tokens': 7680}` - serialized value may not be as expected\n",
      "  return self.__pydantic_serializer__.to_python(\n",
      "/mnt/ssd4/lm_compiler/my_env/lib/python3.12/site-packages/pydantic/main.py:441: UserWarning: Pydantic serializer warnings:\n",
      "  Expected `PromptTokensDetails` but got `dict` with value `{'audio_tokens': None, 'cached_tokens': 6016}` - serialized value may not be as expected\n",
      "  return self.__pydantic_serializer__.to_json(\n",
      "/mnt/ssd4/lm_compiler/my_env/lib/python3.12/site-packages/pydantic/main.py:390: UserWarning: Pydantic serializer warnings:\n",
      "  Expected `PromptTokensDetails` but got `dict` with value `{'audio_tokens': None, 'cached_tokens': 6016}` - serialized value may not be as expected\n",
      "  return self.__pydantic_serializer__.to_python(\n",
      "Average Metric: 7.908391608391608 / 25  (31.6): 100%|██████████| 25/25 [00:09<00:00,  2.56it/s] \n"
     ]
    },
    {
     "name": "stdout",
     "output_type": "stream",
     "text": [
      "Score: 31.63 on minibatch of size 25 with parameters ['Predictor 1: Instruction 3', 'Predictor 1: Few-Shot Set 6', 'Predictor 2: Instruction 3', 'Predictor 2: Few-Shot Set 9', 'Predictor 3: Instruction 1', 'Predictor 3: Few-Shot Set 7', 'Predictor 4: Instruction 1', 'Predictor 4: Few-Shot Set 7'].\n",
      "\n",
      "\n",
      "===== Full Eval 2 =====\n",
      "Doing full eval on next top averaging program (Avg Score: 37.52) so far from mini-batch trials...\n"
     ]
    },
    {
     "name": "stderr",
     "output_type": "stream",
     "text": [
      "Average Metric: 17.311771561771565 / 50  (34.6): 100%|██████████| 50/50 [00:07<00:00,  6.90it/s]"
     ]
    },
    {
     "name": "stdout",
     "output_type": "stream",
     "text": [
      "Full eval score: 34.62\n",
      "Best full eval score so far: 37.03\n",
      "=======================\n",
      "\n",
      "\n"
     ]
    },
    {
     "name": "stderr",
     "output_type": "stream",
     "text": [
      "\n"
     ]
    }
   ],
   "source": [
    "from dspy.teleprompt import BootstrapFewShotWithRandomSearch, MIPROv2\n",
    "prmopt_model = hover_dspy.gpt4o_mini\n",
    "dspy.settings.configure(lm=prmopt_model)\n",
    "bootstrap_optimizer = MIPROv2(\n",
    "    prompt_model=prmopt_model,\n",
    "    metric=hover_dspy.doc_f1,\n",
    "    num_candidates=10,\n",
    "    num_threads=20,\n",
    ")\n",
    "optimized_agent = bootstrap_optimizer.compile(\n",
    "    agent,\n",
    "    trainset=hover_dspy.train_set,\n",
    "    max_bootstrapped_demos=20,\n",
    "    max_labeled_demos=4,\n",
    "    num_trials=20,\n",
    "    valset=hover_dspy.val_set,\n",
    "    requires_permission_to_run=False,\n",
    ")"
   ]
  },
  {
   "cell_type": "code",
   "execution_count": 14,
   "metadata": {},
   "outputs": [
    {
     "name": "stdout",
     "output_type": "stream",
     "text": [
      "[('create_query_hop2', Predict(StringSignature(claim, summary_1 -> reasoning, query\n",
      "    instructions='Given the fields `claim`, `summary_1`, produce the fields `query`.'\n",
      "    claim = Field(annotation=str required=True json_schema_extra={'__dspy_field_type': 'input', 'prefix': 'Claim:', 'desc': '${claim}'})\n",
      "    summary_1 = Field(annotation=str required=True json_schema_extra={'__dspy_field_type': 'input', 'prefix': 'Summary 1:', 'desc': '${summary_1}'})\n",
      "    reasoning = Field(annotation=str required=True json_schema_extra={'prefix': \"Reasoning: Let's think step by step in order to\", 'desc': '${reasoning}', '__dspy_field_type': 'output'})\n",
      "    query = Field(annotation=str required=True json_schema_extra={'__dspy_field_type': 'output', 'prefix': 'Query:', 'desc': '${query}'})\n",
      "))), ('create_query_hop3', Predict(StringSignature(claim, summary_1, summary_2 -> reasoning, query\n",
      "    instructions='Given the fields `claim`, `summary_1`, `summary_2`, produce the fields `query`.'\n",
      "    claim = Field(annotation=str required=True json_schema_extra={'__dspy_field_type': 'input', 'prefix': 'Claim:', 'desc': '${claim}'})\n",
      "    summary_1 = Field(annotation=str required=True json_schema_extra={'__dspy_field_type': 'input', 'prefix': 'Summary 1:', 'desc': '${summary_1}'})\n",
      "    summary_2 = Field(annotation=str required=True json_schema_extra={'__dspy_field_type': 'input', 'prefix': 'Summary 2:', 'desc': '${summary_2}'})\n",
      "    reasoning = Field(annotation=str required=True json_schema_extra={'prefix': \"Reasoning: Let's think step by step in order to\", 'desc': '${reasoning}', '__dspy_field_type': 'output'})\n",
      "    query = Field(annotation=str required=True json_schema_extra={'__dspy_field_type': 'output', 'prefix': 'Query:', 'desc': '${query}'})\n",
      "))), ('retrieve_k', <dspy.retrieve.retrieve.Retrieve object at 0x7f02456d0680>), ('summarize1', Predict(StringSignature(claim, passages -> reasoning, summary\n",
      "    instructions='Given the fields `claim`, `passages`, produce the fields `summary`.'\n",
      "    claim = Field(annotation=str required=True json_schema_extra={'__dspy_field_type': 'input', 'prefix': 'Claim:', 'desc': '${claim}'})\n",
      "    passages = Field(annotation=str required=True json_schema_extra={'__dspy_field_type': 'input', 'prefix': 'Passages:', 'desc': '${passages}'})\n",
      "    reasoning = Field(annotation=str required=True json_schema_extra={'prefix': \"Reasoning: Let's think step by step in order to\", 'desc': '${reasoning}', '__dspy_field_type': 'output'})\n",
      "    summary = Field(annotation=str required=True json_schema_extra={'__dspy_field_type': 'output', 'prefix': 'Summary:', 'desc': '${summary}'})\n",
      "))), ('summarize2', Predict(StringSignature(claim, context, passages -> reasoning, summary\n",
      "    instructions='Given the fields `claim`, `context`, `passages`, produce the fields `summary`.'\n",
      "    claim = Field(annotation=str required=True json_schema_extra={'__dspy_field_type': 'input', 'prefix': 'Claim:', 'desc': '${claim}'})\n",
      "    context = Field(annotation=str required=True json_schema_extra={'__dspy_field_type': 'input', 'prefix': 'Context:', 'desc': '${context}'})\n",
      "    passages = Field(annotation=str required=True json_schema_extra={'__dspy_field_type': 'input', 'prefix': 'Passages:', 'desc': '${passages}'})\n",
      "    reasoning = Field(annotation=str required=True json_schema_extra={'prefix': \"Reasoning: Let's think step by step in order to\", 'desc': '${reasoning}', '__dspy_field_type': 'output'})\n",
      "    summary = Field(annotation=str required=True json_schema_extra={'__dspy_field_type': 'output', 'prefix': 'Summary:', 'desc': '${summary}'})\n",
      ")))]\n"
     ]
    }
   ],
   "source": [
    "optimized_agent.save('optimized_hover.dspy')"
   ]
  },
  {
   "cell_type": "code",
   "execution_count": 15,
   "metadata": {},
   "outputs": [
    {
     "name": "stderr",
     "output_type": "stream",
     "text": [
      "  0%|          | 0/200 [00:00<?, ?it/s]/mnt/ssd4/lm_compiler/my_env/lib/python3.12/site-packages/pydantic/main.py:441: UserWarning: Pydantic serializer warnings:\n",
      "  Expected `PromptTokensDetails` but got `dict` with value `{'audio_tokens': None, 'cached_tokens': 8192}` - serialized value may not be as expected\n",
      "  return self.__pydantic_serializer__.to_json(\n",
      "/mnt/ssd4/lm_compiler/my_env/lib/python3.12/site-packages/pydantic/main.py:390: UserWarning: Pydantic serializer warnings:\n",
      "  Expected `PromptTokensDetails` but got `dict` with value `{'audio_tokens': None, 'cached_tokens': 8192}` - serialized value may not be as expected\n",
      "  return self.__pydantic_serializer__.to_python(\n",
      "/mnt/ssd4/lm_compiler/my_env/lib/python3.12/site-packages/pydantic/main.py:441: UserWarning: Pydantic serializer warnings:\n",
      "  Expected `PromptTokensDetails` but got `dict` with value `{'audio_tokens': None, 'cached_tokens': 4992}` - serialized value may not be as expected\n",
      "  return self.__pydantic_serializer__.to_json(\n",
      "/mnt/ssd4/lm_compiler/my_env/lib/python3.12/site-packages/pydantic/main.py:390: UserWarning: Pydantic serializer warnings:\n",
      "  Expected `PromptTokensDetails` but got `dict` with value `{'audio_tokens': None, 'cached_tokens': 4992}` - serialized value may not be as expected\n",
      "  return self.__pydantic_serializer__.to_python(\n",
      "/mnt/ssd4/lm_compiler/my_env/lib/python3.12/site-packages/pydantic/main.py:441: UserWarning: Pydantic serializer warnings:\n",
      "  Expected `PromptTokensDetails` but got `dict` with value `{'audio_tokens': None, 'cached_tokens': 8960}` - serialized value may not be as expected\n",
      "  return self.__pydantic_serializer__.to_json(\n",
      "/mnt/ssd4/lm_compiler/my_env/lib/python3.12/site-packages/pydantic/main.py:390: UserWarning: Pydantic serializer warnings:\n",
      "  Expected `PromptTokensDetails` but got `dict` with value `{'audio_tokens': None, 'cached_tokens': 8960}` - serialized value may not be as expected\n",
      "  return self.__pydantic_serializer__.to_python(\n",
      "/mnt/ssd4/lm_compiler/my_env/lib/python3.12/site-packages/pydantic/main.py:441: UserWarning: Pydantic serializer warnings:\n",
      "  Expected `PromptTokensDetails` but got `dict` with value `{'audio_tokens': None, 'cached_tokens': 4224}` - serialized value may not be as expected\n",
      "  return self.__pydantic_serializer__.to_json(\n",
      "/mnt/ssd4/lm_compiler/my_env/lib/python3.12/site-packages/pydantic/main.py:390: UserWarning: Pydantic serializer warnings:\n",
      "  Expected `PromptTokensDetails` but got `dict` with value `{'audio_tokens': None, 'cached_tokens': 4224}` - serialized value may not be as expected\n",
      "  return self.__pydantic_serializer__.to_python(\n",
      "Average Metric: 27.293745143745138 / 84  (32.5):  42%|████▏     | 84/200 [00:40<00:58,  1.98it/s]/mnt/ssd4/lm_compiler/my_env/lib/python3.12/site-packages/pydantic/main.py:441: UserWarning: Pydantic serializer warnings:\n",
      "  Expected `PromptTokensDetails` but got `dict` with value `{'audio_tokens': None, 'cached_tokens': 0}` - serialized value may not be as expected\n",
      "  return self.__pydantic_serializer__.to_json(\n",
      "/mnt/ssd4/lm_compiler/my_env/lib/python3.12/site-packages/pydantic/main.py:390: UserWarning: Pydantic serializer warnings:\n",
      "  Expected `PromptTokensDetails` but got `dict` with value `{'audio_tokens': None, 'cached_tokens': 0}` - serialized value may not be as expected\n",
      "  return self.__pydantic_serializer__.to_python(\n",
      "Average Metric: 65.11961926961932 / 200  (32.6): 100%|██████████| 200/200 [01:31<00:00,  2.19it/s] \n"
     ]
    },
    {
     "data": {
      "text/html": [
       "<style type=\"text/css\">\n",
       "#T_617c0 th {\n",
       "  text-align: left;\n",
       "}\n",
       "#T_617c0 td {\n",
       "  text-align: left;\n",
       "}\n",
       "#T_617c0_row0_col0, #T_617c0_row0_col1, #T_617c0_row0_col2, #T_617c0_row0_col3, #T_617c0_row0_col4, #T_617c0_row0_col5, #T_617c0_row1_col0, #T_617c0_row1_col1, #T_617c0_row1_col2, #T_617c0_row1_col3, #T_617c0_row1_col4, #T_617c0_row1_col5, #T_617c0_row2_col0, #T_617c0_row2_col1, #T_617c0_row2_col2, #T_617c0_row2_col3, #T_617c0_row2_col4, #T_617c0_row2_col5, #T_617c0_row3_col0, #T_617c0_row3_col1, #T_617c0_row3_col2, #T_617c0_row3_col3, #T_617c0_row3_col4, #T_617c0_row3_col5, #T_617c0_row4_col0, #T_617c0_row4_col1, #T_617c0_row4_col2, #T_617c0_row4_col3, #T_617c0_row4_col4, #T_617c0_row4_col5 {\n",
       "  text-align: left;\n",
       "  white-space: pre-wrap;\n",
       "  word-wrap: break-word;\n",
       "  max-width: 400px;\n",
       "}\n",
       "</style>\n",
       "<table id=\"T_617c0\">\n",
       "  <thead>\n",
       "    <tr>\n",
       "      <th class=\"blank level0\" >&nbsp;</th>\n",
       "      <th id=\"T_617c0_level0_col0\" class=\"col_heading level0 col0\" >claim</th>\n",
       "      <th id=\"T_617c0_level0_col1\" class=\"col_heading level0 col1\" >docs</th>\n",
       "      <th id=\"T_617c0_level0_col2\" class=\"col_heading level0 col2\" >scores</th>\n",
       "      <th id=\"T_617c0_level0_col3\" class=\"col_heading level0 col3\" >pids</th>\n",
       "      <th id=\"T_617c0_level0_col4\" class=\"col_heading level0 col4\" >passages</th>\n",
       "      <th id=\"T_617c0_level0_col5\" class=\"col_heading level0 col5\" >doc_f1</th>\n",
       "    </tr>\n",
       "  </thead>\n",
       "  <tbody>\n",
       "    <tr>\n",
       "      <th id=\"T_617c0_level0_row0\" class=\"row_heading level0 row0\" >0</th>\n",
       "      <td id=\"T_617c0_row0_col0\" class=\"data row0 col0\" >The actor appeared in The Magic Roundabout, a 2005 French-British computer-animated adventure fantasy that was based on a TV series. He also starred in the...</td>\n",
       "      <td id=\"T_617c0_row0_col1\" class=\"data row0 col1\" >[1781505, 262800, 3126027]</td>\n",
       "      <td id=\"T_617c0_row0_col2\" class=\"data row0 col2\" >(22.828125, 20.328125, 20.28125, 20.0, 19.9375, 19.890625, 19.859375, 19.078125, 19.078125, 18.875)</td>\n",
       "      <td id=\"T_617c0_row0_col3\" class=\"data row0 col3\" >(1781505, 2005212, 1747786, 4981601, 2117018, 4392677, 4233659, 1031221, 1031221, 4340562)</td>\n",
       "      <td id=\"T_617c0_row0_col4\" class=\"data row0 col4\" >('The Magic Roundabout (film) | The Magic Roundabout (released in France as Pollux - Le manège enchanté and redubbed in the United States as Doogal...</td>\n",
       "      <td id=\"T_617c0_row0_col5\" class=\"data row0 col5\" >✔️ [0.16666666666666666]</td>\n",
       "    </tr>\n",
       "    <tr>\n",
       "      <th id=\"T_617c0_level0_row1\" class=\"row_heading level0 row1\" >1</th>\n",
       "      <td id=\"T_617c0_row1_col0\" class=\"data row1 col0\" >Denmark's leader residing over the Cabinet of Deuntzer, was a part of the Liberal \"Venstre\" party before the party that translates to the \"Radical Left\".</td>\n",
       "      <td id=\"T_617c0_row1_col1\" class=\"data row1 col1\" >[3396860, 3826406, 3055778]</td>\n",
       "      <td id=\"T_617c0_row1_col2\" class=\"data row1 col2\" >(24.078125, 23.859375, 23.484375, 21.421875, 21.375, 21.34375, 21.25, 21.171875, 21.171875, 21.140625)</td>\n",
       "      <td id=\"T_617c0_row1_col3\" class=\"data row1 col3\" >(3826406, 3055778, 3055778, 3826406, 2017868, 3826406, 3055778, 3055765, 4299950, 1475546)</td>\n",
       "      <td id=\"T_617c0_row1_col4\" class=\"data row1 col4\" >('Cabinet of Deuntzer | After the 1901 Danish Folketing election, the Council President Johan Henrik Deuntzer of the Venstre Reform Party became the leader of...</td>\n",
       "      <td id=\"T_617c0_row1_col5\" class=\"data row1 col5\" >✔️ [0.4444444444444444]</td>\n",
       "    </tr>\n",
       "    <tr>\n",
       "      <th id=\"T_617c0_level0_row2\" class=\"row_heading level0 row2\" >2</th>\n",
       "      <td id=\"T_617c0_row2_col0\" class=\"data row2 col0\" >Steven Harvey Goldmann directed a 2006 rom-com film that starred an American actress who appeared in Twins and Jerry Maguire. She is married to John...</td>\n",
       "      <td id=\"T_617c0_row2_col1\" class=\"data row2 col1\" >[261096, 2439232, 5046973]</td>\n",
       "      <td id=\"T_617c0_row2_col2\" class=\"data row2 col2\" >(20.40625, 19.796875, 19.703125, 19.6875, 19.59375, 19.53125, 19.515625, 19.3125, 19.09375, 18.53125)</td>\n",
       "      <td id=\"T_617c0_row2_col3\" class=\"data row2 col3\" >(261096, 527484, 737261, 4169987, 3542759, 5098794, 3851433, 5046973, 4143572, 3996867)</td>\n",
       "      <td id=\"T_617c0_row2_col4\" class=\"data row2 col4\" >('Kelly Preston | Kelly Preston (born October 13, 1962) is an American actress and former model. She has appeared in more than sixty television and...</td>\n",
       "      <td id=\"T_617c0_row2_col5\" class=\"data row2 col5\" >✔️ [0.30769230769230765]</td>\n",
       "    </tr>\n",
       "    <tr>\n",
       "      <th id=\"T_617c0_level0_row3\" class=\"row_heading level0 row3\" >3</th>\n",
       "      <td id=\"T_617c0_row3_col0\" class=\"data row3 col0\" >The 2010 population of a town in Waldo County which was covered by the district that contains Mount View High School (Maine) was 2,099.</td>\n",
       "      <td id=\"T_617c0_row3_col1\" class=\"data row3 col1\" >[2887953, 3231759, 1903454]</td>\n",
       "      <td id=\"T_617c0_row3_col2\" class=\"data row3 col2\" >(22.765625, 22.546875, 22.390625, 22.265625, 22.015625, 21.671875, 21.625, 21.59375, 21.546875, 21.53125)</td>\n",
       "      <td id=\"T_617c0_row3_col3\" class=\"data row3 col3\" >(3231759, 4438522, 3208726, 3331758, 3231759, 3231759, 3208736, 3208720, 3200806, 4438522)</td>\n",
       "      <td id=\"T_617c0_row3_col4\" class=\"data row3 col4\" >(\"Unity, Maine | Unity is a town in Waldo County, Maine, United States. The population was 2,099 at the 2010 census. The town is the...</td>\n",
       "      <td id=\"T_617c0_row3_col5\" class=\"data row3 col5\" >✔️ [0.2]</td>\n",
       "    </tr>\n",
       "    <tr>\n",
       "      <th id=\"T_617c0_level0_row4\" class=\"row_heading level0 row4\" >4</th>\n",
       "      <td id=\"T_617c0_row4_col0\" class=\"data row4 col0\" >The narrator of I Know That Voice, voices the character Shnitzel on Cartoon Network series created by C. H. Greenblatt.</td>\n",
       "      <td id=\"T_617c0_row4_col1\" class=\"data row4 col1\" >[1513465, 1008047, 5040692]</td>\n",
       "      <td id=\"T_617c0_row4_col2\" class=\"data row4 col2\" >(19.15625, 18.578125, 18.140625, 18.140625, 18.03125, 17.984375, 17.953125, 17.921875, 17.921875, 17.875)</td>\n",
       "      <td id=\"T_617c0_row4_col3\" class=\"data row4 col3\" >(1008047, 4934352, 641090, 1467546, 4934352, 4959589, 2961098, 4959589, 2788099, 4850341)</td>\n",
       "      <td id=\"T_617c0_row4_col4\" class=\"data row4 col4\" >('I Know That Voice | I Know That Voice is a documentary about American voice acting. It premiered on November 6, 2013, at Grauman\\'s Egyptian...</td>\n",
       "      <td id=\"T_617c0_row4_col5\" class=\"data row4 col5\" >✔️ [0.18181818181818182]</td>\n",
       "    </tr>\n",
       "  </tbody>\n",
       "</table>\n"
      ],
      "text/plain": [
       "<pandas.io.formats.style.Styler at 0x7f02664051c0>"
      ]
     },
     "metadata": {},
     "output_type": "display_data"
    },
    {
     "data": {
      "text/html": [
       "\n",
       "                <div style='\n",
       "                    text-align: center;\n",
       "                    font-size: 16px;\n",
       "                    font-weight: bold;\n",
       "                    color: #555;\n",
       "                    margin: 10px 0;'>\n",
       "                    ... 195 more rows not displayed ...\n",
       "                </div>\n",
       "                "
      ],
      "text/plain": [
       "<IPython.core.display.HTML object>"
      ]
     },
     "metadata": {},
     "output_type": "display_data"
    }
   ],
   "source": [
    "score, outputs = evaluate(optimized_agent, return_outputs=True)"
   ]
  },
  {
   "cell_type": "code",
   "execution_count": 16,
   "metadata": {},
   "outputs": [],
   "source": [
    "import json\n",
    "import pandas as pd\n",
    "\n",
    "def merge_dicts(d1, d2) -> dict:\n",
    "    merged = {}\n",
    "    for k, v in d1.items():\n",
    "        if k in d2:\n",
    "            merged[f\"example_{k}\"] = v\n",
    "        else:\n",
    "            merged[k] = v\n",
    "\n",
    "    for k, v in d2.items():\n",
    "        if k in d1:\n",
    "            merged[f\"pred_{k}\"] = v\n",
    "        else:\n",
    "            merged[k] = v\n",
    "\n",
    "    return merged\n",
    "\n",
    "data = [\n",
    "    merge_dicts(example, prediction) | {\"correct\": score} for example, prediction, score in outputs \n",
    "]\n",
    "result_df = pd.DataFrame(data)\n",
    "result_df.to_csv('hover_results.csv', index=False)"
   ]
  },
  {
   "cell_type": "code",
   "execution_count": null,
   "metadata": {},
   "outputs": [],
   "source": []
  }
 ],
 "metadata": {
  "kernelspec": {
   "display_name": "my_env",
   "language": "python",
   "name": "python3"
  },
  "language_info": {
   "codemirror_mode": {
    "name": "ipython",
    "version": 3
   },
   "file_extension": ".py",
   "mimetype": "text/x-python",
   "name": "python",
   "nbconvert_exporter": "python",
   "pygments_lexer": "ipython3",
   "version": "3.12.6"
  }
 },
 "nbformat": 4,
 "nbformat_minor": 2
}
