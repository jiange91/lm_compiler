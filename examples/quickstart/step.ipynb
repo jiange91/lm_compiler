{
 "cells": [
  {
   "cell_type": "code",
   "execution_count": 1,
   "metadata": {},
   "outputs": [],
   "source": [
    "#================================================================\n",
    "# Evaluator\n",
    "#================================================================\n",
    "\n",
    "import re\n",
    "import string\n",
    "import unicodedata\n",
    "\n",
    "def normalize_text(s):\n",
    "    # Normalize Unicode characters\n",
    "    s = unicodedata.normalize('NFD', s)\n",
    "    # Convert to lowercase\n",
    "    s = s.lower()\n",
    "    # Remove punctuation\n",
    "    s = ''.join(ch for ch in s if ch not in string.punctuation)\n",
    "    # Remove articles (a, an, the)\n",
    "    s = re.sub(r'\\b(a|an|the)\\b', ' ', s)\n",
    "    # Fix extra whitespaces\n",
    "    s = ' '.join(s.split())\n",
    "    return s\n",
    "\n",
    "\n",
    "def f1_score_strings(label, pred):\n",
    "    # Tokenize the strings (split by whitespace)\n",
    "    tokens1 = set(normalize_text(label).split())\n",
    "    tokens2 = set(normalize_text(pred).split())\n",
    "\n",
    "    # Calculate true positives, false positives, and false negatives\n",
    "    true_positives = len(tokens1 & tokens2)\n",
    "    false_positives = len(tokens2 - tokens1)\n",
    "    false_negatives = len(tokens1 - tokens2)\n",
    "\n",
    "    if true_positives == 0:\n",
    "        return 0\n",
    "    \n",
    "    # Calculate F1 score\n",
    "    precision = true_positives / (true_positives + false_positives)\n",
    "    recall = true_positives / (true_positives + false_negatives)\n",
    "    f1 = 2 * precision * recall / (precision + recall)\n",
    "    return f1"
   ]
  },
  {
   "cell_type": "code",
   "execution_count": 2,
   "metadata": {},
   "outputs": [],
   "source": [
    "#================================================================\n",
    "# Data Loader\n",
    "#================================================================\n",
    "\n",
    "import json\n",
    "\n",
    "def load_data_minor():\n",
    "    with open(\"data._json\", \"r\") as f:\n",
    "        data = json.load(f)\n",
    "    # raw format:\n",
    "    # [\n",
    "    #     {\n",
    "    #         \"question\": \"...\",\n",
    "    #         \"docs\": [...],\n",
    "    #         \"answer\": \"...\"\n",
    "    #     },\n",
    "    #     ...\n",
    "    # ]\n",
    "          \n",
    "    # format to (input, output) pairs\n",
    "    new_data = []\n",
    "    for d in data:\n",
    "        input = (d[\"question\"], d[\"docs\"])\n",
    "        output = d[\"answer\"]\n",
    "        new_data.append((input, output))\n",
    "    return new_data[:5], None, new_data[5:]"
   ]
  },
  {
   "cell_type": "code",
   "execution_count": null,
   "metadata": {},
   "outputs": [],
   "source": [
    "#================================================================\n",
    "# Optimizer Set Up\n",
    "#================================================================\n",
    "from cognify.optimizer.control_param import ControlParameter\n",
    "from cognify.cog_hub.optim_setup.qa import QASetup\n",
    "\n",
    "# ================= Overall Control Parameter =================\n",
    "optimize_control_param = ControlParameter(\n",
    "    opt_setup=QASetup(),\n",
    "    opt_history_log_dir='opt_results',\n",
    "    evaluator_batch_size=2,\n",
    ")"
   ]
  },
  {
   "cell_type": "code",
   "execution_count": 4,
   "metadata": {},
   "outputs": [],
   "source": [
    "train, val, test = load_data_minor()"
   ]
  },
  {
   "cell_type": "code",
   "execution_count": 6,
   "metadata": {},
   "outputs": [
    {
     "name": "stderr",
     "output_type": "stream",
     "text": [
      "[INFO 2024-11-13 22:38:09] Dry run on train set: 2 samples for optimizer analysis\n",
      "[INFO 2024-11-13 22:38:09] Loading existing dry run result at opt_results/dry_run_train.json\n",
      "[INFO 2024-11-13 22:38:09] ----------------- Start Optimization -----------------\n",
      "[INFO 2024-11-13 22:38:09] Loading outer_loop params from opt_results/outer_loop/opt_params.json\n"
     ]
    },
    {
     "data": {
      "application/vnd.jupyter.widget-view+json": {
       "model_id": "18752f44a5824d89855a03c77f37b5da",
       "version_major": 2,
       "version_minor": 0
      },
      "text/plain": [
       "> outer_loop | (best score: 0.00, lowest cost@1000: 0.00 $):  50%|#####     | 2/4 [00:00<?, ?it/s]"
      ]
     },
     "metadata": {},
     "output_type": "display_data"
    },
    {
     "data": {
      "application/vnd.jupyter.widget-view+json": {
       "model_id": "7df307be89f649f5b77eece019148b74",
       "version_major": 2,
       "version_minor": 0
      },
      "text/plain": [
       "------> Evaluation in outer_loop_2 | (avg score: 0.00, avg cost@1000: 0.00 $):   0%|          | 0/5 [00:00<?, …"
      ]
     },
     "metadata": {},
     "output_type": "display_data"
    },
    {
     "data": {
      "application/vnd.jupyter.widget-view+json": {
       "model_id": "d5424e32bdf24cb588a5325541abeb26",
       "version_major": 2,
       "version_minor": 0
      },
      "text/plain": [
       "------> Evaluation in outer_loop_3 | (avg score: 0.00, avg cost@1000: 0.00 $):   0%|          | 0/5 [00:00<?, …"
      ]
     },
     "metadata": {},
     "output_type": "display_data"
    },
    {
     "data": {
      "application/vnd.jupyter.widget-view+json": {
       "model_id": "f31a22e2158047b3b5b119a4ad9db7ed",
       "version_major": 2,
       "version_minor": 0
      },
      "text/plain": [
       "---> inner_loop in outer_loop_2 | (best score: 0.00, lowest cost@1000: 0.00 $):   0%|          | 0/2 [00:00<?,…"
      ]
     },
     "metadata": {},
     "output_type": "display_data"
    },
    {
     "data": {
      "application/vnd.jupyter.widget-view+json": {
       "model_id": "5068809a91cd4a8eb05a341321138630",
       "version_major": 2,
       "version_minor": 0
      },
      "text/plain": [
       "---> inner_loop in outer_loop_3 | (best score: 0.00, lowest cost@1000: 0.00 $):   0%|          | 0/2 [00:00<?,…"
      ]
     },
     "metadata": {},
     "output_type": "display_data"
    },
    {
     "data": {
      "application/vnd.jupyter.widget-view+json": {
       "model_id": "6d0856f3fb4f40b4b21320bf52851137",
       "version_major": 2,
       "version_minor": 0
      },
      "text/plain": [
       "------> Evaluation in outer_loop_3.inner_loop_0 | (avg score: 0.00, avg cost@1000: 0.00 $):   0%|          | 0…"
      ]
     },
     "metadata": {},
     "output_type": "display_data"
    },
    {
     "data": {
      "application/vnd.jupyter.widget-view+json": {
       "model_id": "0d371acd70ef49649a1afec67ea414ef",
       "version_major": 2,
       "version_minor": 0
      },
      "text/plain": [
       "------> Evaluation in outer_loop_3.inner_loop_1 | (avg score: 0.00, avg cost@1000: 0.00 $):   0%|          | 0…"
      ]
     },
     "metadata": {},
     "output_type": "display_data"
    },
    {
     "data": {
      "application/vnd.jupyter.widget-view+json": {
       "model_id": "1eafcaf5b1134d3088406d2f5805d3e2",
       "version_major": 2,
       "version_minor": 0
      },
      "text/plain": [
       "------> Evaluation in outer_loop_2.inner_loop_0 | (avg score: 0.00, avg cost@1000: 0.00 $):   0%|          | 0…"
      ]
     },
     "metadata": {},
     "output_type": "display_data"
    },
    {
     "data": {
      "application/vnd.jupyter.widget-view+json": {
       "model_id": "b4151636800f47a683c5f6360e877297",
       "version_major": 2,
       "version_minor": 0
      },
      "text/plain": [
       "------> Evaluation in outer_loop_2.inner_loop_1 | (avg score: 0.00, avg cost@1000: 0.00 $):   0%|          | 0…"
      ]
     },
     "metadata": {},
     "output_type": "display_data"
    },
    {
     "name": "stderr",
     "output_type": "stream",
     "text": [
      "[INFO 2024-11-13 22:38:49] ----------------- Optimization Finished -----------------\n"
     ]
    },
    {
     "name": "stdout",
     "output_type": "stream",
     "text": [
      "=========== Optimization Results ===========\n",
      "Num Pareto Frontier: 1\n",
      "--------------------------------------------------------\n",
      "# 0-th Pareto solution\n",
      "  Quality = 0.402, Cost per 1K invocation = 0.78 $\n",
      "  Applied Optimization: outer_loop_3.inner_loop_0\n",
      "========================================================\n"
     ]
    }
   ],
   "source": [
    "import cognify.run.optimize\n",
    "\n",
    "opt_cost, pareto_frontier, opt_logs = cognify.run.optimize.optimize(\n",
    "    script_path=\"cognify_workflow.py\",\n",
    "    control_param=optimize_control_param,\n",
    "    train_set=train,\n",
    "    val_set=val,\n",
    "    eval_fn=f1_score_strings,\n",
    ")"
   ]
  },
  {
   "cell_type": "code",
   "execution_count": 7,
   "metadata": {},
   "outputs": [],
   "source": [
    "from cognify.run.evaluate import evaluate, load_workflow"
   ]
  },
  {
   "cell_type": "code",
   "execution_count": 8,
   "metadata": {},
   "outputs": [],
   "source": [
    "new_workflow = load_workflow(control_param=optimize_control_param, config_id='outer_loop_3.inner_loop_0')"
   ]
  },
  {
   "cell_type": "code",
   "execution_count": 9,
   "metadata": {},
   "outputs": [
    {
     "data": {
      "text/plain": [
       "'The 2010 population of Woodmere, New York, the birthplace of Gerard Piel, was 17,121.'"
      ]
     },
     "execution_count": 9,
     "metadata": {},
     "output_type": "execute_result"
    }
   ],
   "source": [
    "input = (\n",
    "    \"What was the 2010 population of the birthplace of Gerard Piel?\", \n",
    "    [\n",
    "        'Gerard Piel | Gerard Piel (1 March 1915 in Woodmere, N.Y. – 5 September 2004) was the publisher of the new Scientific American magazine starting in 1948. He wrote for magazines, including \"The Nation\", and published books on science for the general public. In 1990, Piel was presented with the \"In Praise of Reason\" award by the Committee for Skeptical Inquiry (CSICOP).',\n",
    "        'Woodmere, New York | Woodmere is a hamlet and census-designated place (CDP) in Nassau County, New York, United States. The population was 17,121 at the 2010 census.',\n",
    "    ],\n",
    ")\n",
    "\n",
    "new_workflow(input)"
   ]
  },
  {
   "cell_type": "code",
   "execution_count": null,
   "metadata": {},
   "outputs": [
    {
     "name": "stdout",
     "output_type": "stream",
     "text": [
      "----- Testing select trial outer_loop_1.inner_loop_0 -----\n",
      "  Params: {'qa_agent_sampler_1_few_shot': 'qa_agent_sampler_1_demos_8583cf5e-9847-4df3-8572-d016af28c712', 'qa_agent_sampler_1_reasoning': 'NoChange', 'qa_agent_aggregator_few_shot': 'qa_agent_aggregator_demos_784f480c-2313-4615-84ad-4f3fd0ef1ecf', 'qa_agent_aggregator_reasoning': 'ZeroShotCoT', 'qa_agent_sampler_0_few_shot': 'qa_agent_sampler_0_demos_6ed9a41d-0094-421f-b1e9-181e4b36ca65', 'qa_agent_sampler_0_reasoning': 'ZeroShotCoT', 'qa_agent_sampler_2_few_shot': 'NoChange', 'qa_agent_sampler_2_reasoning': 'ZeroShotCoT'}\n",
      "  Quality = 0.374, Cost per 1K invocation = 1.45 $\n"
     ]
    },
    {
     "data": {
      "application/vnd.jupyter.widget-view+json": {
       "model_id": "714ca99a9fff4ffb98dab7c62c2b0330",
       "version_major": 2,
       "version_minor": 0
      },
      "text/plain": [
       "> Evaluation in outer_loop_1.inner_loop_0 | (avg score: 0.00, avg cost@1000: 0.00 $):   0%|          | 0/10 [0…"
      ]
     },
     "metadata": {},
     "output_type": "display_data"
    },
    {
     "name": "stderr",
     "output_type": "stream",
     "text": [
      "[INFO 2024-11-13 22:39:18] Retrying request to /chat/completions in 0.390986 seconds\n",
      "[INFO 2024-11-13 22:39:18] Retrying request to /chat/completions in 0.482437 seconds\n",
      "[INFO 2024-11-13 22:39:18] Retrying request to /chat/completions in 0.433917 seconds\n",
      "[INFO 2024-11-13 22:39:18] Retrying request to /chat/completions in 0.409458 seconds\n",
      "[INFO 2024-11-13 22:39:18] Retrying request to /chat/completions in 0.475266 seconds\n",
      "[INFO 2024-11-13 22:39:18] Retrying request to /chat/completions in 0.454701 seconds\n",
      "[INFO 2024-11-13 22:39:18] Retrying request to /chat/completions in 0.472313 seconds\n",
      "[INFO 2024-11-13 22:39:18] Retrying request to /chat/completions in 0.489201 seconds\n",
      "[INFO 2024-11-13 22:39:18] Retrying request to /chat/completions in 0.457788 seconds\n",
      "[INFO 2024-11-13 22:39:18] Retrying request to /chat/completions in 0.472920 seconds\n"
     ]
    },
    {
     "name": "stdout",
     "output_type": "stream",
     "text": [
      "=========== Evaluation Results ===========\n",
      "  Quality = 0.514, Cost per 1K invocation = 1.48 $\n",
      "===========================================\n"
     ]
    }
   ],
   "source": [
    "eval_result = evaluate(\n",
    "    control_param=optimize_control_param,\n",
    "    config_id='outer_loop_3.inner_loop_0',\n",
    "    test_set=test,\n",
    "    n_parallel=10,\n",
    "    eval_fn=f1_score_strings,\n",
    "    save_to='eval_results.json',\n",
    ")"
   ]
  },
  {
   "cell_type": "code",
   "execution_count": null,
   "metadata": {},
   "outputs": [],
   "source": []
  }
 ],
 "metadata": {
  "kernelspec": {
   "display_name": "cog-env",
   "language": "python",
   "name": "python3"
  },
  "language_info": {
   "codemirror_mode": {
    "name": "ipython",
    "version": 3
   },
   "file_extension": ".py",
   "mimetype": "text/x-python",
   "name": "python",
   "nbconvert_exporter": "python",
   "pygments_lexer": "ipython3",
   "version": "3.12.6"
  }
 },
 "nbformat": 4,
 "nbformat_minor": 2
}
