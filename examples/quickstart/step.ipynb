{
 "cells": [
  {
   "cell_type": "code",
   "execution_count": 1,
   "metadata": {},
   "outputs": [],
   "source": [
    "#================================================================\n",
    "# Evaluator\n",
    "#================================================================\n",
    "\n",
    "import re\n",
    "import string\n",
    "import unicodedata\n",
    "\n",
    "def normalize_text(s):\n",
    "    # Normalize Unicode characters\n",
    "    s = unicodedata.normalize('NFD', s)\n",
    "    # Convert to lowercase\n",
    "    s = s.lower()\n",
    "    # Remove punctuation\n",
    "    s = ''.join(ch for ch in s if ch not in string.punctuation)\n",
    "    # Remove articles (a, an, the)\n",
    "    s = re.sub(r'\\b(a|an|the)\\b', ' ', s)\n",
    "    # Fix extra whitespaces\n",
    "    s = ' '.join(s.split())\n",
    "    return s\n",
    "\n",
    "\n",
    "def f1_score_strings(label, pred):\n",
    "    # Tokenize the strings (split by whitespace)\n",
    "    tokens1 = set(normalize_text(label).split())\n",
    "    tokens2 = set(normalize_text(pred).split())\n",
    "\n",
    "    # Calculate true positives, false positives, and false negatives\n",
    "    true_positives = len(tokens1 & tokens2)\n",
    "    false_positives = len(tokens2 - tokens1)\n",
    "    false_negatives = len(tokens1 - tokens2)\n",
    "\n",
    "    if true_positives == 0:\n",
    "        return 0\n",
    "    \n",
    "    # Calculate F1 score\n",
    "    precision = true_positives / (true_positives + false_positives)\n",
    "    recall = true_positives / (true_positives + false_negatives)\n",
    "    f1 = 2 * precision * recall / (precision + recall)\n",
    "    return f1"
   ]
  },
  {
   "cell_type": "code",
   "execution_count": 2,
   "metadata": {},
   "outputs": [],
   "source": [
    "#================================================================\n",
    "# Data Loader\n",
    "#================================================================\n",
    "\n",
    "import json\n",
    "\n",
    "def load_data_minor():\n",
    "    with open(\"data._json\", \"r\") as f:\n",
    "        data = json.load(f)\n",
    "    # raw format:\n",
    "    # [\n",
    "    #     {\n",
    "    #         \"question\": \"...\",\n",
    "    #         \"docs\": [...],\n",
    "    #         \"answer\": \"...\"\n",
    "    #     },\n",
    "    #     ...\n",
    "    # ]\n",
    "          \n",
    "    # format to (input, output) pairs\n",
    "    new_data = []\n",
    "    for d in data:\n",
    "        input = (d[\"question\"], d[\"docs\"])\n",
    "        output = d[\"answer\"]\n",
    "        new_data.append((input, output))\n",
    "    return new_data[:5], None, new_data[5:]"
   ]
  },
  {
   "cell_type": "code",
   "execution_count": 3,
   "metadata": {},
   "outputs": [],
   "source": [
    "#================================================================\n",
    "# Optimizer Set Up\n",
    "#================================================================\n",
    "\n",
    "from cognify.optimizer.core import driver, flow\n",
    "from cognify.cog_hub import reasoning, ensemble\n",
    "from cognify.cog_hub.common import NoChange\n",
    "from cognify.cog_hub.fewshot import LMFewShot\n",
    "from cognify.cog_hub.reasoning import ZeroShotCoT\n",
    "from cognify.optimizer.control_param import ControlParameter\n",
    "\n",
    "# ================= Inner Loop Config =================\n",
    "# Reasoning Parameter\n",
    "reasoning_param = reasoning.LMReasoning(\n",
    "    [NoChange(), ZeroShotCoT()] \n",
    ")\n",
    "# Few Shot Parameter\n",
    "few_shot_params = LMFewShot(2)\n",
    "\n",
    "# Layer Config\n",
    "inner_opt_config = flow.OptConfig(\n",
    "    n_trials=2,\n",
    ")\n",
    "inner_loop_config = driver.LayerConfig(\n",
    "    layer_name='inner_loop',\n",
    "    universal_params=[few_shot_params, reasoning_param],\n",
    "    opt_config=inner_opt_config,\n",
    ")\n",
    "\n",
    "# ================= Outer Loop Config =================\n",
    "# Ensemble Parameter\n",
    "general_usc_ensemble = ensemble.UniversalSelfConsistency(3)\n",
    "general_ensemble_params = ensemble.ModuleEnsemble(\n",
    "    [NoChange(), general_usc_ensemble]\n",
    ")\n",
    "# Layer Config\n",
    "outer_opt_config = flow.OptConfig(\n",
    "    n_trials=2,\n",
    ")\n",
    "outer_loop_config = driver.LayerConfig(\n",
    "    layer_name='outer_loop',\n",
    "    universal_params=[general_ensemble_params],\n",
    "    opt_config=outer_opt_config,\n",
    ")\n",
    "\n",
    "# ================= Overall Control Parameter =================\n",
    "optimize_control_param = ControlParameter(\n",
    "    opt_layer_configs=[outer_loop_config, inner_loop_config],\n",
    "    opt_history_log_dir='opt_results',\n",
    "    evaluator_batch_size=2,\n",
    ")"
   ]
  },
  {
   "cell_type": "code",
   "execution_count": 4,
   "metadata": {},
   "outputs": [],
   "source": [
    "train, val, test = load_data_minor()"
   ]
  },
  {
   "cell_type": "code",
   "execution_count": 5,
   "metadata": {},
   "outputs": [
    {
     "name": "stderr",
     "output_type": "stream",
     "text": [
      "[INFO 2024-11-13 21:19:09] Loading outer_loop params from opt_results/outer_loop/opt_params.json\n"
     ]
    },
    {
     "data": {
      "application/vnd.jupyter.widget-view+json": {
       "model_id": "834e46b3a43a497ba2312d6888611935",
       "version_major": 2,
       "version_minor": 0
      },
      "text/plain": [
       "> outer_loop | (best score: 0.00, lowest cost@1000: 0.00 $):  67%|######6   | 4/6 [00:00<?, ?it/s]"
      ]
     },
     "metadata": {},
     "output_type": "display_data"
    },
    {
     "data": {
      "application/vnd.jupyter.widget-view+json": {
       "model_id": "0848339ab4214510b2233e43a0548c4e",
       "version_major": 2,
       "version_minor": 0
      },
      "text/plain": [
       "------> Evaluation in outer_loop_4 | (avg score: 0.00, avg cost@1000: 0.00 $):   0%|          | 0/5 [00:00<?, …"
      ]
     },
     "metadata": {},
     "output_type": "display_data"
    },
    {
     "data": {
      "application/vnd.jupyter.widget-view+json": {
       "model_id": "e6529b79ef7643e286ef0ed6e6afa12a",
       "version_major": 2,
       "version_minor": 0
      },
      "text/plain": [
       "---> inner_loop in outer_loop_4 | (best score: 0.00, lowest cost@1000: 0.00 $):   0%|          | 0/2 [00:00<?,…"
      ]
     },
     "metadata": {},
     "output_type": "display_data"
    },
    {
     "data": {
      "application/vnd.jupyter.widget-view+json": {
       "model_id": "b09cc933540c4208b2db0db461b3e199",
       "version_major": 2,
       "version_minor": 0
      },
      "text/plain": [
       "------> Evaluation in outer_loop_5 | (avg score: 0.00, avg cost@1000: 0.00 $):   0%|          | 0/5 [00:00<?, …"
      ]
     },
     "metadata": {},
     "output_type": "display_data"
    },
    {
     "data": {
      "application/vnd.jupyter.widget-view+json": {
       "model_id": "def47968c30b454d982dc9be4ea9f83d",
       "version_major": 2,
       "version_minor": 0
      },
      "text/plain": [
       "---> inner_loop in outer_loop_5 | (best score: 0.00, lowest cost@1000: 0.00 $):   0%|          | 0/2 [00:00<?,…"
      ]
     },
     "metadata": {},
     "output_type": "display_data"
    },
    {
     "data": {
      "application/vnd.jupyter.widget-view+json": {
       "model_id": "3e1799aa72264630aabb17654c5de004",
       "version_major": 2,
       "version_minor": 0
      },
      "text/plain": [
       "------> Evaluation in outer_loop_4.inner_loop_0 | (avg score: 0.00, avg cost@1000: 0.00 $):   0%|          | 0…"
      ]
     },
     "metadata": {},
     "output_type": "display_data"
    },
    {
     "data": {
      "application/vnd.jupyter.widget-view+json": {
       "model_id": "ea7dfa638ff74b88b91b62719a79144a",
       "version_major": 2,
       "version_minor": 0
      },
      "text/plain": [
       "------> Evaluation in outer_loop_4.inner_loop_1 | (avg score: 0.00, avg cost@1000: 0.00 $):   0%|          | 0…"
      ]
     },
     "metadata": {},
     "output_type": "display_data"
    },
    {
     "data": {
      "application/vnd.jupyter.widget-view+json": {
       "model_id": "26e4787a6d714e6ea12cf37ea7af2d93",
       "version_major": 2,
       "version_minor": 0
      },
      "text/plain": [
       "------> Evaluation in outer_loop_5.inner_loop_0 | (avg score: 0.00, avg cost@1000: 0.00 $):   0%|          | 0…"
      ]
     },
     "metadata": {},
     "output_type": "display_data"
    },
    {
     "data": {
      "application/vnd.jupyter.widget-view+json": {
       "model_id": "9d8a7109d43c4f39b8ac44a0397299e2",
       "version_major": 2,
       "version_minor": 0
      },
      "text/plain": [
       "------> Evaluation in outer_loop_5.inner_loop_1 | (avg score: 0.00, avg cost@1000: 0.00 $):   0%|          | 0…"
      ]
     },
     "metadata": {},
     "output_type": "display_data"
    },
    {
     "name": "stderr",
     "output_type": "stream",
     "text": [
      "[INFO 2024-11-13 21:19:50] ----------------- Optimization Finished -----------------\n"
     ]
    },
    {
     "name": "stdout",
     "output_type": "stream",
     "text": [
      "=========== Optimization Results ===========\n",
      "Num Pareto Frontier: 0\n",
      "========================================================\n"
     ]
    }
   ],
   "source": [
    "import cognify.run.optimize\n",
    "\n",
    "\n",
    "opt_cost, pareto_frontier, opt_logs = cognify.run.optimize.optimize(\n",
    "    script_path=\"cognify_workflow.py\",\n",
    "    control_param=optimize_control_param,\n",
    "    train_set=train,\n",
    "    val_set=val,\n",
    "    eval_fn=f1_score_strings,\n",
    ")"
   ]
  },
  {
   "cell_type": "code",
   "execution_count": null,
   "metadata": {},
   "outputs": [],
   "source": []
  }
 ],
 "metadata": {
  "kernelspec": {
   "display_name": "my_env",
   "language": "python",
   "name": "python3"
  },
  "language_info": {
   "codemirror_mode": {
    "name": "ipython",
    "version": 3
   },
   "file_extension": ".py",
   "mimetype": "text/x-python",
   "name": "python",
   "nbconvert_exporter": "python",
   "pygments_lexer": "ipython3",
   "version": "3.12.6"
  }
 },
 "nbformat": 4,
 "nbformat_minor": 2
}
