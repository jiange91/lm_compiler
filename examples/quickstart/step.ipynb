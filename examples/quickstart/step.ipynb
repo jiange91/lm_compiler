{
 "cells": [
  {
   "cell_type": "code",
   "execution_count": null,
   "metadata": {},
   "outputs": [],
   "source": [
    "import cognify"
   ]
  },
  {
   "cell_type": "code",
   "execution_count": null,
   "metadata": {},
   "outputs": [],
   "source": [
    "#================================================================\n",
    "# Evaluator\n",
    "#================================================================\n",
    "\n",
    "metric = cognify.metric.f1_score_str\n",
    "\n",
    "def evaluate_answer(answer, label):\n",
    "    return metric(answer, label)"
   ]
  },
  {
   "cell_type": "code",
   "execution_count": null,
   "metadata": {},
   "outputs": [],
   "source": [
    "#================================================================\n",
    "# Data Loader\n",
    "#================================================================\n",
    "\n",
    "import json\n",
    "\n",
    "def load_data_minor():\n",
    "    with open(\"data._json\", \"r\") as f:\n",
    "        data = json.load(f)\n",
    "          \n",
    "    # format to (input, output) pairs\n",
    "    new_data = []\n",
    "    for d in data:\n",
    "        input = {\n",
    "            'question': d[\"question\"], \n",
    "            'documents': d[\"docs\"]\n",
    "        }\n",
    "        output = {\n",
    "            'label': d[\"label\"],\n",
    "        }\n",
    "        new_data.append((input, output))\n",
    "    return new_data[:5], None, new_data[5:]"
   ]
  },
  {
   "cell_type": "code",
   "execution_count": null,
   "metadata": {},
   "outputs": [],
   "source": [
    "#================================================================\n",
    "# Optimizer Set Up\n",
    "#================================================================\n",
    "from cognify.hub.search import default\n",
    "search_settings = default.create_search()"
   ]
  },
  {
   "cell_type": "code",
   "execution_count": null,
   "metadata": {},
   "outputs": [],
   "source": [
    "train, val, test = load_data_minor()"
   ]
  },
  {
   "cell_type": "code",
   "execution_count": null,
   "metadata": {},
   "outputs": [],
   "source": [
    "opt_cost, pareto_frontier, opt_logs = cognify.optimize(\n",
    "    script_path=\"workflow.py\",\n",
    "    control_param=search_settings,\n",
    "    train_set=train,\n",
    "    val_set=val,\n",
    "    eval_fn=evaluate_answer,\n",
    "    force=True,\n",
    ")"
   ]
  },
  {
   "cell_type": "code",
   "execution_count": null,
   "metadata": {},
   "outputs": [],
   "source": [
    "new_workflow = cognify.load_workflow(config_id='Pareto_1', opt_result_path='opt_results')"
   ]
  },
  {
   "cell_type": "code",
   "execution_count": null,
   "metadata": {},
   "outputs": [],
   "source": [
    "question = \"What was the 2010 population of the birthplace of Gerard Piel?\"\n",
    "documents = [\n",
    "    'Gerard Piel | Gerard Piel (1 March 1915 in Woodmere, N.Y. – 5 September 2004) was the publisher of the new Scientific American magazine starting in 1948. He wrote for magazines, including \"The Nation\", and published books on science for the general public. In 1990, Piel was presented with the \"In Praise of Reason\" award by the Committee for Skeptical Inquiry (CSICOP).',\n",
    "]\n",
    "\n",
    "new_workflow(question=question, documents=documents)"
   ]
  },
  {
   "cell_type": "code",
   "execution_count": null,
   "metadata": {},
   "outputs": [],
   "source": [
    "eval_result = cognify.evaluate(\n",
    "    config_id='Pareto_1',\n",
    "    test_set=test,\n",
    "    opt_result_path='opt_results',\n",
    "    n_parallel=10,\n",
    "    eval_fn=evaluate_answer,\n",
    ")"
   ]
  },
  {
   "cell_type": "code",
   "execution_count": null,
   "metadata": {},
   "outputs": [],
   "source": [
    "cognify.inspect(\n",
    "    'opt_results'\n",
    ")"
   ]
  },
  {
   "cell_type": "code",
   "execution_count": null,
   "metadata": {},
   "outputs": [],
   "source": [
    "eval_result = cognify.evaluate(\n",
    "    config_id='NoChange',\n",
    "    test_set=test,\n",
    "    workflow='workflow.py',\n",
    "    n_parallel=10,\n",
    "    eval_fn=evaluate_answer,\n",
    ")"
   ]
  },
  {
   "cell_type": "code",
   "execution_count": null,
   "metadata": {},
   "outputs": [],
   "source": []
  }
 ],
 "metadata": {
  "kernelspec": {
   "display_name": "fresh_env",
   "language": "python",
   "name": "python3"
  },
  "language_info": {
   "codemirror_mode": {
    "name": "ipython",
    "version": 3
   },
   "file_extension": ".py",
   "mimetype": "text/x-python",
   "name": "python",
   "nbconvert_exporter": "python",
   "pygments_lexer": "ipython3",
   "version": "3.8.10"
  }
 },
 "nbformat": 4,
 "nbformat_minor": 2
}
