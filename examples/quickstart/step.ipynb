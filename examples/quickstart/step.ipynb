{
 "cells": [
  {
   "cell_type": "code",
   "execution_count": 1,
   "metadata": {},
   "outputs": [],
   "source": [
    "import cognify"
   ]
  },
  {
   "cell_type": "code",
   "execution_count": 2,
   "metadata": {},
   "outputs": [],
   "source": [
    "#================================================================\n",
    "# Evaluator\n",
    "#================================================================\n",
    "\n",
    "metric = cognify.metric.F1Str()"
   ]
  },
  {
   "cell_type": "code",
   "execution_count": 3,
   "metadata": {},
   "outputs": [],
   "source": [
    "#================================================================\n",
    "# Data Loader\n",
    "#================================================================\n",
    "\n",
    "import json\n",
    "\n",
    "def load_data_minor():\n",
    "    with open(\"data._json\", \"r\") as f:\n",
    "        data = json.load(f)\n",
    "          \n",
    "    # format to (input, output) pairs\n",
    "    new_data = []\n",
    "    for d in data:\n",
    "        input = (d[\"question\"], d[\"docs\"])\n",
    "        output = d[\"answer\"]\n",
    "        new_data.append((input, output))\n",
    "    return new_data[:5], None, new_data[5:]"
   ]
  },
  {
   "cell_type": "code",
   "execution_count": 4,
   "metadata": {},
   "outputs": [
    {
     "ename": "AttributeError",
     "evalue": "module 'cognify.hub.search' has no attribute 'default'",
     "output_type": "error",
     "traceback": [
      "\u001b[0;31m---------------------------------------------------------------------------\u001b[0m",
      "\u001b[0;31mAttributeError\u001b[0m                            Traceback (most recent call last)",
      "Cell \u001b[0;32mIn[4], line 5\u001b[0m\n\u001b[1;32m      1\u001b[0m \u001b[38;5;66;03m#================================================================\u001b[39;00m\n\u001b[1;32m      2\u001b[0m \u001b[38;5;66;03m# Optimizer Set Up\u001b[39;00m\n\u001b[1;32m      3\u001b[0m \u001b[38;5;66;03m#================================================================\u001b[39;00m\n\u001b[0;32m----> 5\u001b[0m search_settings \u001b[38;5;241m=\u001b[39m \u001b[43mcognify\u001b[49m\u001b[38;5;241;43m.\u001b[39;49m\u001b[43mhub\u001b[49m\u001b[38;5;241;43m.\u001b[39;49m\u001b[43msearch\u001b[49m\u001b[38;5;241;43m.\u001b[39;49m\u001b[43mdefault\u001b[49m\u001b[38;5;241m.\u001b[39mcreate_search(n_trials\u001b[38;5;241m=\u001b[39m\u001b[38;5;241m1\u001b[39m)\n",
      "\u001b[0;31mAttributeError\u001b[0m: module 'cognify.hub.search' has no attribute 'default'"
     ]
    }
   ],
   "source": [
    "#================================================================\n",
    "# Optimizer Set Up\n",
    "#================================================================\n",
    "\n",
    "search_settings = cognify.hub.search.default.create_search(n_trials=1)"
   ]
  },
  {
   "cell_type": "code",
   "execution_count": 5,
   "metadata": {},
   "outputs": [],
   "source": [
    "train, val, test = load_data_minor()"
   ]
  },
  {
   "cell_type": "code",
   "execution_count": 8,
   "metadata": {},
   "outputs": [
    {
     "data": {
      "application/vnd.jupyter.widget-view+json": {
       "model_id": "c9bede9b08ae449490bb6e2481092c0c",
       "version_major": 2,
       "version_minor": 0
      },
      "text/plain": [
       "> Evaluation in dry_run | (avg score: 0.00, avg cost@1000: 0.00 $):   0%|          | 0/5 [00:00<?, ?it/s]"
      ]
     },
     "metadata": {},
     "output_type": "display_data"
    },
    {
     "data": {
      "application/vnd.jupyter.widget-view+json": {
       "model_id": "ed652de13da6435fa89a6b76bd1c99f0",
       "version_major": 2,
       "version_minor": 0
      },
      "text/plain": [
       "---> Evaluation in pre-opt-analysis | (avg score: 0.00, avg cost@1000: 0.00 $):   0%|          | 0/5 [00:00<?,…"
      ]
     },
     "metadata": {},
     "output_type": "display_data"
    },
    {
     "data": {
      "application/vnd.jupyter.widget-view+json": {
       "model_id": "aa15dabf66f347ab98c28b853c395f38",
       "version_major": 2,
       "version_minor": 0
      },
      "text/plain": [
       "> light_opt_layer | (best score: 0.00, lowest cost@1000: 0.00 $):   0%|          | 0/1 [00:00<?, ?it/s]"
      ]
     },
     "metadata": {},
     "output_type": "display_data"
    },
    {
     "data": {
      "application/vnd.jupyter.widget-view+json": {
       "model_id": "992a0b395de444ad96bc31f5bd09e7b6",
       "version_major": 2,
       "version_minor": 0
      },
      "text/plain": [
       "---> Evaluation in light_opt_layer_0 | (avg score: 0.00, avg cost@1000: 0.00 $):   0%|          | 0/5 [00:00<?…"
      ]
     },
     "metadata": {},
     "output_type": "display_data"
    },
    {
     "name": "stdout",
     "output_type": "stream",
     "text": [
      "=========== Optimization Results ===========\n",
      "Num Pareto Frontier: 0\n",
      "========================================================\n"
     ]
    }
   ],
   "source": [
    "opt_cost, pareto_frontier, opt_logs = cognify.optimize(\n",
    "    script_path=\"cognify_workflow.py\",\n",
    "    control_param=search_settings,\n",
    "    train_set=train,\n",
    "    val_set=val,\n",
    "    eval_fn=metric,\n",
    "    force=True,\n",
    ")"
   ]
  },
  {
   "cell_type": "code",
   "execution_count": null,
   "metadata": {},
   "outputs": [],
   "source": [
    "new_workflow = cognify.load_workflow(config_id='Pareto_1', opt_result_path='opt_results')"
   ]
  },
  {
   "cell_type": "code",
   "execution_count": null,
   "metadata": {},
   "outputs": [],
   "source": [
    "input = (\n",
    "    \"What was the 2010 population of the birthplace of Gerard Piel?\", \n",
    "    [\n",
    "        'Gerard Piel | Gerard Piel (1 March 1915 in Woodmere, N.Y. – 5 September 2004) was the publisher of the new Scientific American magazine starting in 1948. He wrote for magazines, including \"The Nation\", and published books on science for the general public. In 1990, Piel was presented with the \"In Praise of Reason\" award by the Committee for Skeptical Inquiry (CSICOP).',\n",
    "        'Woodmere, New York | Woodmere is a hamlet and census-designated place (CDP) in Nassau County, New York, United States. The population was 17,121 at the 2010 census.',\n",
    "    ],\n",
    ")\n",
    "\n",
    "new_workflow(input)"
   ]
  },
  {
   "cell_type": "code",
   "execution_count": null,
   "metadata": {},
   "outputs": [],
   "source": [
    "eval_result = cognify.evaluate(\n",
    "    config_id='Pareto_1',\n",
    "    test_set=test,\n",
    "    opt_result_path='opt_results',\n",
    "    n_parallel=10,\n",
    "    eval_fn=metric,\n",
    ")"
   ]
  },
  {
   "cell_type": "code",
   "execution_count": null,
   "metadata": {},
   "outputs": [],
   "source": [
    "cognify.inspect(\n",
    "    'opt_results'\n",
    ")"
   ]
  },
  {
   "cell_type": "code",
   "execution_count": 6,
   "metadata": {},
   "outputs": [
    {
     "data": {
      "application/vnd.jupyter.widget-view+json": {
       "model_id": "c22501eadcd2488d944a9b516f46a160",
       "version_major": 2,
       "version_minor": 0
      },
      "text/plain": [
       "> Evaluation in evaluate_raw | (avg score: 0.00, avg cost@1000: 0.00 $):   0%|          | 0/10 [00:00<?, ?it/s…"
      ]
     },
     "metadata": {},
     "output_type": "display_data"
    },
    {
     "name": "stdout",
     "output_type": "stream",
     "text": [
      "----- Testing Raw Program -----\n",
      "=========== Evaluation Results ===========\n",
      "  Quality: 0.100, Cost per 1K invocation ($): 0.16 $\n",
      "===========================================\n"
     ]
    }
   ],
   "source": [
    "eval_result = cognify.evaluate(\n",
    "    config_id='NoChange',\n",
    "    test_set=test,\n",
    "    workflow='cognify_workflow.py',\n",
    "    n_parallel=10,\n",
    "    eval_fn=metric,\n",
    ")"
   ]
  },
  {
   "cell_type": "code",
   "execution_count": null,
   "metadata": {},
   "outputs": [],
   "source": []
  }
 ],
 "metadata": {
  "kernelspec": {
   "display_name": "fresh_env",
   "language": "python",
   "name": "python3"
  },
  "language_info": {
   "codemirror_mode": {
    "name": "ipython",
    "version": 3
   },
   "file_extension": ".py",
   "mimetype": "text/x-python",
   "name": "python",
   "nbconvert_exporter": "python",
   "pygments_lexer": "ipython3",
   "version": "3.10.13"
  }
 },
 "nbformat": 4,
 "nbformat_minor": 2
}
