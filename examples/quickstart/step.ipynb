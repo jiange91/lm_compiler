{
 "cells": [
  {
   "cell_type": "code",
   "execution_count": 1,
   "metadata": {},
   "outputs": [],
   "source": [
    "#================================================================\n",
    "# Evaluator\n",
    "#================================================================\n",
    "from cognify.optimizer.evaluation.metric import F1Str\n",
    "\n",
    "metric = F1Str()"
   ]
  },
  {
   "cell_type": "code",
   "execution_count": 2,
   "metadata": {},
   "outputs": [],
   "source": [
    "#================================================================\n",
    "# Data Loader\n",
    "#================================================================\n",
    "\n",
    "import json\n",
    "\n",
    "def load_data_minor():\n",
    "    with open(\"data._json\", \"r\") as f:\n",
    "        data = json.load(f)\n",
    "          \n",
    "    # format to (input, output) pairs\n",
    "    new_data = []\n",
    "    for d in data:\n",
    "        input = (d[\"question\"], d[\"docs\"])\n",
    "        output = d[\"answer\"]\n",
    "        new_data.append((input, output))\n",
    "    return new_data[:5], None, new_data[5:]"
   ]
  },
  {
   "cell_type": "code",
   "execution_count": 4,
   "metadata": {},
   "outputs": [
    {
     "name": "stderr",
     "output_type": "stream",
     "text": [
      "/mnt/ssd4/lm_compiler/my_env/lib/python3.12/site-packages/pydantic/_internal/_config.py:341: UserWarning: Valid config keys have changed in V2:\n",
      "* 'allow_population_by_field_name' has been renamed to 'populate_by_name'\n",
      "* 'smart_union' has been removed\n",
      "  warnings.warn(message, UserWarning)\n"
     ]
    }
   ],
   "source": [
    "#================================================================\n",
    "# Optimizer Set Up\n",
    "#================================================================\n",
    "from cognify.cog_hub import default_search\n",
    "\n",
    "search_settings = default_search.create_search()"
   ]
  },
  {
   "cell_type": "code",
   "execution_count": 5,
   "metadata": {},
   "outputs": [],
   "source": [
    "train, val, test = load_data_minor()"
   ]
  },
  {
   "cell_type": "code",
   "execution_count": 5,
   "metadata": {},
   "outputs": [
    {
     "name": "stderr",
     "output_type": "stream",
     "text": [
      "[INFO 2024-11-17 04:40:22] Loading light_opt_layer params from opt_results/light_opt_layer/opt_params.json\n"
     ]
    },
    {
     "data": {
      "application/vnd.jupyter.widget-view+json": {
       "model_id": "7b3537fd07df4da2b33fbcbf4c1e030b",
       "version_major": 2,
       "version_minor": 0
      },
      "text/plain": [
       "> light_opt_layer | (best score: 0.00, lowest cost@1000: 0.00 $):  50%|#####     | 10/20 [00:00<?, ?it/s]"
      ]
     },
     "metadata": {},
     "output_type": "display_data"
    },
    {
     "data": {
      "application/vnd.jupyter.widget-view+json": {
       "model_id": "cecf8779ca3a42e99c406a37e5800d9f",
       "version_major": 2,
       "version_minor": 0
      },
      "text/plain": [
       "---> Evaluation in light_opt_layer_10 | (avg score: 0.00, avg cost@1000: 0.00 $):   0%|          | 0/5 [00:00<…"
      ]
     },
     "metadata": {},
     "output_type": "display_data"
    },
    {
     "data": {
      "application/vnd.jupyter.widget-view+json": {
       "model_id": "e7d69604b11649b88af5ebe10e0c7a72",
       "version_major": 2,
       "version_minor": 0
      },
      "text/plain": [
       "---> Evaluation in light_opt_layer_11 | (avg score: 0.00, avg cost@1000: 0.00 $):   0%|          | 0/5 [00:00<…"
      ]
     },
     "metadata": {},
     "output_type": "display_data"
    },
    {
     "data": {
      "application/vnd.jupyter.widget-view+json": {
       "model_id": "e177fa146c4647c4961c69cd3fd8d153",
       "version_major": 2,
       "version_minor": 0
      },
      "text/plain": [
       "---> Evaluation in light_opt_layer_12 | (avg score: 0.00, avg cost@1000: 0.00 $):   0%|          | 0/5 [00:00<…"
      ]
     },
     "metadata": {},
     "output_type": "display_data"
    },
    {
     "data": {
      "application/vnd.jupyter.widget-view+json": {
       "model_id": "c7381a26ddf345dd8b3162979373202f",
       "version_major": 2,
       "version_minor": 0
      },
      "text/plain": [
       "---> Evaluation in light_opt_layer_13 | (avg score: 0.00, avg cost@1000: 0.00 $):   0%|          | 0/5 [00:00<…"
      ]
     },
     "metadata": {},
     "output_type": "display_data"
    },
    {
     "data": {
      "application/vnd.jupyter.widget-view+json": {
       "model_id": "c516d800295a4d9985fc1fba2c47d406",
       "version_major": 2,
       "version_minor": 0
      },
      "text/plain": [
       "---> Evaluation in light_opt_layer_14 | (avg score: 0.00, avg cost@1000: 0.00 $):   0%|          | 0/5 [00:00<…"
      ]
     },
     "metadata": {},
     "output_type": "display_data"
    },
    {
     "data": {
      "application/vnd.jupyter.widget-view+json": {
       "model_id": "357b4681e20247109a1e84de936bb218",
       "version_major": 2,
       "version_minor": 0
      },
      "text/plain": [
       "---> Evaluation in light_opt_layer_15 | (avg score: 0.00, avg cost@1000: 0.00 $):   0%|          | 0/5 [00:00<…"
      ]
     },
     "metadata": {},
     "output_type": "display_data"
    },
    {
     "data": {
      "application/vnd.jupyter.widget-view+json": {
       "model_id": "57f5befd4f114800bcbcc7811555bb66",
       "version_major": 2,
       "version_minor": 0
      },
      "text/plain": [
       "---> Evaluation in light_opt_layer_16 | (avg score: 0.00, avg cost@1000: 0.00 $):   0%|          | 0/5 [00:00<…"
      ]
     },
     "metadata": {},
     "output_type": "display_data"
    },
    {
     "data": {
      "application/vnd.jupyter.widget-view+json": {
       "model_id": "31513bc5bda843ceaa76e33fa9b4ce79",
       "version_major": 2,
       "version_minor": 0
      },
      "text/plain": [
       "---> Evaluation in light_opt_layer_17 | (avg score: 0.00, avg cost@1000: 0.00 $):   0%|          | 0/5 [00:00<…"
      ]
     },
     "metadata": {},
     "output_type": "display_data"
    },
    {
     "data": {
      "application/vnd.jupyter.widget-view+json": {
       "model_id": "4414d0f391c74c4392165dd1545be9d5",
       "version_major": 2,
       "version_minor": 0
      },
      "text/plain": [
       "---> Evaluation in light_opt_layer_18 | (avg score: 0.00, avg cost@1000: 0.00 $):   0%|          | 0/5 [00:00<…"
      ]
     },
     "metadata": {},
     "output_type": "display_data"
    },
    {
     "data": {
      "application/vnd.jupyter.widget-view+json": {
       "model_id": "133acbba71d74e709ad88db305542701",
       "version_major": 2,
       "version_minor": 0
      },
      "text/plain": [
       "---> Evaluation in light_opt_layer_19 | (avg score: 0.00, avg cost@1000: 0.00 $):   0%|          | 0/5 [00:00<…"
      ]
     },
     "metadata": {},
     "output_type": "display_data"
    },
    {
     "name": "stderr",
     "output_type": "stream",
     "text": [
      "[INFO 2024-11-17 04:40:40] ----------------- Optimization Finished -----------------\n"
     ]
    },
    {
     "name": "stdout",
     "output_type": "stream",
     "text": [
      "=========== Optimization Results ===========\n",
      "Num Pareto Frontier: 2\n",
      "--------------------------------------------------------\n",
      "Pareto_1\n",
      "  Quality: 0.418, Cost per 1K invocation ($): 0.17\n",
      "  Applied Optimization: light_opt_layer_12\n",
      "--------------------------------------------------------\n",
      "Pareto_2\n",
      "  Quality: 0.420, Cost per 1K invocation ($): 0.19\n",
      "  Applied Optimization: light_opt_layer_19\n",
      "========================================================\n"
     ]
    }
   ],
   "source": [
    "import cognify.run.optimize\n",
    "\n",
    "opt_cost, pareto_frontier, opt_logs = cognify.run.optimize.optimize(\n",
    "    script_path=\"cognify_workflow.py\",\n",
    "    control_param=search_settings,\n",
    "    train_set=train,\n",
    "    val_set=val,\n",
    "    eval_fn=metric,\n",
    ")"
   ]
  },
  {
   "cell_type": "code",
   "execution_count": 5,
   "metadata": {},
   "outputs": [],
   "source": [
    "from cognify.run.evaluate import evaluate, load_workflow"
   ]
  },
  {
   "cell_type": "code",
   "execution_count": 7,
   "metadata": {},
   "outputs": [],
   "source": [
    "new_workflow = load_workflow(config_id='Pareto_1', opt_result_path='opt_results')"
   ]
  },
  {
   "cell_type": "code",
   "execution_count": 8,
   "metadata": {},
   "outputs": [
    {
     "data": {
      "text/plain": [
       "'The population of Woodmere, New York in 2010 was 17,121.'"
      ]
     },
     "execution_count": 8,
     "metadata": {},
     "output_type": "execute_result"
    }
   ],
   "source": [
    "input = (\n",
    "    \"What was the 2010 population of the birthplace of Gerard Piel?\", \n",
    "    [\n",
    "        'Gerard Piel | Gerard Piel (1 March 1915 in Woodmere, N.Y. – 5 September 2004) was the publisher of the new Scientific American magazine starting in 1948. He wrote for magazines, including \"The Nation\", and published books on science for the general public. In 1990, Piel was presented with the \"In Praise of Reason\" award by the Committee for Skeptical Inquiry (CSICOP).',\n",
    "        'Woodmere, New York | Woodmere is a hamlet and census-designated place (CDP) in Nassau County, New York, United States. The population was 17,121 at the 2010 census.',\n",
    "    ],\n",
    ")\n",
    "\n",
    "new_workflow(input)"
   ]
  },
  {
   "cell_type": "code",
   "execution_count": 9,
   "metadata": {},
   "outputs": [
    {
     "name": "stdout",
     "output_type": "stream",
     "text": [
      "----- Testing select trial light_opt_layer_12 -----\n",
      "  Params: {'qa_agent_few_shot': 'NoChange', 'qa_agent_reasoning': 'NoChange'}\n",
      "  Quality: 0.418, Cost per 1K invocation ($): 0.17 $\n"
     ]
    },
    {
     "data": {
      "application/vnd.jupyter.widget-view+json": {
       "model_id": "8d0531bd597542ef85625d5f0adf4d91",
       "version_major": 2,
       "version_minor": 0
      },
      "text/plain": [
       "> Evaluation in light_opt_layer_12 | (avg score: 0.00, avg cost@1000: 0.00 $):   0%|          | 0/10 [00:00<?,…"
      ]
     },
     "metadata": {},
     "output_type": "display_data"
    },
    {
     "name": "stdout",
     "output_type": "stream",
     "text": [
      "=========== Evaluation Results ===========\n",
      "  Quality: 0.453, Cost per 1K invocation ($): 0.16 $\n",
      "===========================================\n"
     ]
    }
   ],
   "source": [
    "eval_result = evaluate(\n",
    "    config_id='Pareto_1',\n",
    "    test_set=test,\n",
    "    opt_result_path='opt_results',\n",
    "    n_parallel=10,\n",
    "    eval_fn=metric,\n",
    "    save_to='eval_results.json',\n",
    ")"
   ]
  },
  {
   "cell_type": "code",
   "execution_count": 10,
   "metadata": {},
   "outputs": [],
   "source": [
    "from cognify.run.inspect import inspect"
   ]
  },
  {
   "cell_type": "code",
   "execution_count": 11,
   "metadata": {},
   "outputs": [
    {
     "name": "stderr",
     "output_type": "stream",
     "text": [
      "[INFO 2024-11-17 04:46:50] Loading existing dry run result at opt_results/dry_run_train.json\n"
     ]
    },
    {
     "name": "stdout",
     "output_type": "stream",
     "text": [
      "=========== Optimization Results ===========\n",
      "Num Pareto Frontier: 2\n",
      "--------------------------------------------------------\n",
      "Pareto_1\n",
      "  Quality: 0.418, Cost per 1K invocation ($): 0.17\n",
      "  Applied Optimization: light_opt_layer_12\n",
      "--------------------------------------------------------\n",
      "Pareto_2\n",
      "  Quality: 0.420, Cost per 1K invocation ($): 0.19\n",
      "  Applied Optimization: light_opt_layer_19\n",
      "========================================================\n"
     ]
    }
   ],
   "source": [
    "inspect(\n",
    "    opt_result_path='opt_results'\n",
    ")"
   ]
  },
  {
   "cell_type": "code",
   "execution_count": null,
   "metadata": {},
   "outputs": [],
   "source": []
  }
 ],
 "metadata": {
  "kernelspec": {
   "display_name": "my_env",
   "language": "python",
   "name": "python3"
  },
  "language_info": {
   "codemirror_mode": {
    "name": "ipython",
    "version": 3
   },
   "file_extension": ".py",
   "mimetype": "text/x-python",
   "name": "python",
   "nbconvert_exporter": "python",
   "pygments_lexer": "ipython3",
   "version": "3.12.6"
  }
 },
 "nbformat": 4,
 "nbformat_minor": 2
}
